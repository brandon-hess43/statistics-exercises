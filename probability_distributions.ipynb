{
 "cells": [
  {
   "cell_type": "code",
   "execution_count": null,
   "id": "d85a265b-f353-4a49-9713-d41745b9a741",
   "metadata": {},
   "outputs": [],
   "source": [
    "import pandas as pd\n",
    "import env\n",
    "\n",
    "url = f'mysql+pymysql://{env.user}:{env.password}@{env.host}/employees'  \n",
    "pd.read_sql('SELECT * FROM departments', url)"
   ]
  },
  {
   "cell_type": "code",
   "execution_count": 2,
   "id": "c5619579-2c27-44fb-94c0-b9aadad69638",
   "metadata": {},
   "outputs": [],
   "source": [
    "# for viz\n",
    "import matplotlib.pyplot as plt\n",
    "# for statistics\n",
    "from scipy import stats\n",
    "# for numerical data:\n",
    "import numpy as np"
   ]
  },
  {
   "cell_type": "markdown",
   "id": "cd39db4a-c628-42b3-8ca1-ff653d32ef2c",
   "metadata": {
    "tags": []
   },
   "source": [
    "#### 1. A bank found that the average number of cars waiting during the noon hour at a drive-up window follows a Poisson distribution with a mean of 2 cars. Make a chart of this distribution and answer these questions concerning the probability of cars waiting at the drive-up window.\n",
    "\n",
    "What is the probability that no cars drive up in the noon hour?  "
   ]
  },
  {
   "cell_type": "code",
   "execution_count": 3,
   "id": "6dd13c98-695e-4f3b-af33-9cfd8eb5e09c",
   "metadata": {},
   "outputs": [],
   "source": [
    "# what do i need to define a poisson distribution?\n",
    "# I have my one metric of 2 cars on average per window of 1 hour\n",
    "λ = 2 # The one hour window is contextual through our understanding\n",
    "cars_dist = stats.poisson(λ)"
   ]
  },
  {
   "cell_type": "code",
   "execution_count": 6,
   "id": "a7899004-5ba6-469f-a604-90932d80a694",
   "metadata": {},
   "outputs": [
    {
     "data": {
      "image/png": "[encoded data removed]",
      "text/plain": [
       "<Figure size 640x480 with 1 Axes>"
      ]
     },
     "metadata": {},
     "output_type": "display_data"
    }
   ],
   "source": [
    "# how make a chart?\n",
    "# make a domain? 0 - 11\n",
    "# make a range? PMF: the probability of any given instance happening\n",
    "xs = range(12)\n",
    "ys = [cars_dist.pmf(x) for x in xs]\n",
    "plt.bar(xs, ys)\n",
    "plt.title('Probability of Number of Cars in the Lunch Hour Window')\n",
    "plt.show()"
   ]
  },
  {
   "cell_type": "code",
   "execution_count": 7,
   "id": "b92f72d3-e173-405c-a4a2-98d9dca2db16",
   "metadata": {},
   "outputs": [
    {
     "data": {
      "text/plain": [
       "0.1353352832366127"
      ]
     },
     "execution_count": 7,
     "metadata": {},
     "output_type": "execute_result"
    }
   ],
   "source": [
    "# i have my dist set up and I want to answer:\n",
    "# probability of zero cars showing up in the noon hour?\n",
    "# what can I use to figure this out?\n",
    "# looking for an exact value, PMF!\n",
    "cars_dist.pmf(0)"
   ]
  },
  {
   "cell_type": "code",
   "execution_count": 8,
   "id": "a23a3ec4-309a-41cc-87ee-480710bc5029",
   "metadata": {},
   "outputs": [
    {
     "data": {
      "text/plain": [
       "0.1353352832366127"
      ]
     },
     "execution_count": 8,
     "metadata": {},
     "output_type": "execute_result"
    }
   ],
   "source": [
    "# what about zero or less?\n",
    "cars_dist.cdf(0)"
   ]
  },
  {
   "cell_type": "code",
   "execution_count": 9,
   "id": "78f9af02-d082-4415-910e-e48f0485b250",
   "metadata": {},
   "outputs": [
    {
     "data": {
      "text/plain": [
       "0.1353352832366127"
      ]
     },
     "execution_count": 9,
     "metadata": {},
     "output_type": "execute_result"
    }
   ],
   "source": [
    "# what about the possibility of every thing\n",
    "# minus the possibility of 1 or more?\n",
    "1 - cars_dist.sf(0)"
   ]
  },
  {
   "cell_type": "markdown",
   "id": "877174e4-4997-4e82-9f5a-fd5d523f0913",
   "metadata": {
    "tags": []
   },
   "source": [
    "#### 2. Grades of State University graduates are normally distributed with a mean of 3.0 and a standard deviation of .3. Calculate the following:\n",
    "\n",
    "- What grade point average is required to be in the top 5% of the graduating class?  \n",
    "- What GPA constitutes the bottom 15% of the class?  \n",
    "- An eccentric alumnus left scholarship money for students in the third decile from the bottom of their class. Determine the range of the third decile. Would a student with a 2.8 grade point average qualify for this scholarship?  \n",
    "- If I have a GPA of 3.5, what percentile am I in?"
   ]
  },
  {
   "cell_type": "code",
   "execution_count": 14,
   "id": "bc78ba2a-02e5-421f-a4df-b4d9b2e7d231",
   "metadata": {},
   "outputs": [],
   "source": [
    "# one thing at a time:\n",
    "# make the distribution\n",
    "μ = 3.0\n",
    "σ = 0.3\n",
    "grades_dist = stats.norm(μ, σ)"
   ]
  },
  {
   "cell_type": "code",
   "execution_count": 16,
   "id": "cb4f6292-ae94-4a50-a1f8-897b6f4cf70c",
   "metadata": {},
   "outputs": [
    {
     "data": {
      "text/plain": [
       "3.49"
      ]
     },
     "execution_count": 16,
     "metadata": {},
     "output_type": "execute_result"
    }
   ],
   "source": [
    "# what gpa to be in the top 5%?\n",
    "# top 5 % -> count from right side and use inverse survival\n",
    "round(grades_dist.isf(0.05), 2)"
   ]
  },
  {
   "cell_type": "code",
   "execution_count": 21,
   "id": "6af57095-8af1-4f7b-b856-e3138f836280",
   "metadata": {},
   "outputs": [
    {
     "data": {
      "text/plain": [
       "3.49"
      ]
     },
     "execution_count": 21,
     "metadata": {},
     "output_type": "execute_result"
    }
   ],
   "source": [
    "round(grades_dist.ppf(0.95), 2)"
   ]
  },
  {
   "cell_type": "code",
   "execution_count": 18,
   "id": "7f188ba3-7f7d-43ad-ac29-24d232c0d795",
   "metadata": {},
   "outputs": [],
   "source": [
    "# what gpa is the bottom 15% threshold?"
   ]
  },
  {
   "cell_type": "code",
   "execution_count": 19,
   "id": "2115ba02-c754-4833-b385-84c80f574f80",
   "metadata": {},
   "outputs": [],
   "source": [
    "# bottom 15%, same as the top 85%?"
   ]
  },
  {
   "cell_type": "code",
   "execution_count": 22,
   "id": "ccdafc28-cf8a-4c47-bf42-c7c73f8342d8",
   "metadata": {},
   "outputs": [
    {
     "data": {
      "text/plain": [
       "2.69"
      ]
     },
     "execution_count": 22,
     "metadata": {},
     "output_type": "execute_result"
    }
   ],
   "source": [
    "round(grades_dist.ppf(0.15), 2)"
   ]
  },
  {
   "cell_type": "markdown",
   "id": "a812ec95-782d-4084-b42b-7575561620ab",
   "metadata": {},
   "source": [
    "An eccentric alumnus left scholarship money for students in the third decile from the bottom of their class. Determine the range of the third decile. Would a student with a 2.8 grade point average qualify for this scholarship?  "
   ]
  },
  {
   "cell_type": "markdown",
   "id": "843a32a7-8592-44a3-98f3-b8a17c4e3a37",
   "metadata": {
    "tags": []
   },
   "source": [
    "1st decile: 0-10 percentile  \n",
    "2nd decile: 10-20 percentile   \n",
    "3rd decile: 20-30 percentile"
   ]
  },
  {
   "cell_type": "code",
   "execution_count": 23,
   "id": "473c1a34-7595-45f3-9f8b-3cf859bd0d49",
   "metadata": {},
   "outputs": [
    {
     "data": {
      "text/plain": [
       "2.7475136299281258"
      ]
     },
     "execution_count": 23,
     "metadata": {},
     "output_type": "execute_result"
    }
   ],
   "source": [
    "grades_dist.ppf(0.2)"
   ]
  },
  {
   "cell_type": "code",
   "execution_count": 24,
   "id": "f5c6f87f-9066-4117-ad11-9e291684908f",
   "metadata": {},
   "outputs": [
    {
     "data": {
      "text/plain": [
       "2.842679846187588"
      ]
     },
     "execution_count": 24,
     "metadata": {},
     "output_type": "execute_result"
    }
   ],
   "source": [
    "grades_dist.ppf(0.3)"
   ]
  },
  {
   "cell_type": "code",
   "execution_count": 25,
   "id": "edb928e6-616d-4b7e-8552-0cfe3e9c6f5e",
   "metadata": {},
   "outputs": [],
   "source": [
    "lower_fence, upper_fence = grades_dist.ppf([0.2,0.3])"
   ]
  },
  {
   "cell_type": "code",
   "execution_count": 26,
   "id": "7678fcf7-788d-4bc7-b45e-1ada1f84b8a4",
   "metadata": {},
   "outputs": [
    {
     "data": {
      "text/plain": [
       "(2.7475136299281258, 2.842679846187588)"
      ]
     },
     "execution_count": 26,
     "metadata": {},
     "output_type": "execute_result"
    }
   ],
   "source": [
    "lower_fence, upper_fence"
   ]
  },
  {
   "cell_type": "code",
   "execution_count": 27,
   "id": "7526a55f-9dec-458f-a995-d374ea5e1f9b",
   "metadata": {},
   "outputs": [],
   "source": [
    "candidate_grade = 2.8"
   ]
  },
  {
   "cell_type": "code",
   "execution_count": 28,
   "id": "f9b1ef98-5a68-4473-891c-acadd3770201",
   "metadata": {},
   "outputs": [
    {
     "data": {
      "text/plain": [
       "True"
      ]
     },
     "execution_count": 28,
     "metadata": {},
     "output_type": "execute_result"
    }
   ],
   "source": [
    "lower_fence < candidate_grade < upper_fence"
   ]
  },
  {
   "cell_type": "markdown",
   "id": "027e8811-3105-4980-ae98-3f4d6aed62a8",
   "metadata": {},
   "source": [
    "If I have a GPA of 3.5, what percentile am I in?"
   ]
  },
  {
   "cell_type": "code",
   "execution_count": 31,
   "id": "9154ce6e-737f-46d3-883d-5c1eb949c660",
   "metadata": {},
   "outputs": [
    {
     "data": {
      "text/plain": [
       "0.95"
      ]
     },
     "execution_count": 31,
     "metadata": {},
     "output_type": "execute_result"
    }
   ],
   "source": [
    "round(grades_dist.cdf(3.5), 2) # from the left side"
   ]
  },
  {
   "cell_type": "code",
   "execution_count": 32,
   "id": "f78f1083-b129-4cf6-9b71-c0357d7d2c02",
   "metadata": {},
   "outputs": [
    {
     "data": {
      "text/plain": [
       "0.05"
      ]
     },
     "execution_count": 32,
     "metadata": {},
     "output_type": "execute_result"
    }
   ],
   "source": [
    "round(grades_dist.sf(3.5), 2) # right the right side,\n",
    "# we are in the top ~4.7% of our class"
   ]
  },
  {
   "cell_type": "markdown",
   "id": "90f7da6a-b989-49ee-9fe7-702507e203f9",
   "metadata": {
    "tags": []
   },
   "source": [
    "#### 3. A marketing website has an average click-through rate of 2%. One day they observe 4326 visitors and 97 click-throughs. How likely is it that this many people or more click through?"
   ]
  },
  {
   "cell_type": "code",
   "execution_count": 34,
   "id": "c5f670f5-de03-4992-bcd0-c22721471852",
   "metadata": {},
   "outputs": [
    {
     "data": {
      "text/plain": [
       "0.14"
      ]
     },
     "execution_count": 34,
     "metadata": {},
     "output_type": "execute_result"
    }
   ],
   "source": [
    "# what type of distribution?\n",
    "# click-though rate:\n",
    "# rate of success: 0.02\n",
    "# trials: 4326\n",
    "# 97 or more clickthroughs: survival function!\n",
    "\n",
    "clicks_dist = stats.binom(4326, 0.02)\n",
    "# under this distribution, my odds of getting 97 or more clickthroughs?\n",
    "round(clicks_dist.sf(96), 2)"
   ]
  },
  {
   "cell_type": "code",
   "execution_count": null,
   "id": "f4efa6d6-25af-4c36-95bf-cc6a1ab54281",
   "metadata": {},
   "outputs": [],
   "source": [
    "# about a 14 % chance of that happening"
   ]
  },
  {
   "cell_type": "code",
   "execution_count": 35,
   "id": "ddd1b7c5-4bc0-4b33-93fb-52e9ed543e2a",
   "metadata": {},
   "outputs": [],
   "source": [
    "# if we thought about this in terms of a poisson, we could:\n",
    "# lambda: probability of success over that specific window\n",
    "# lambda = 0.02 * 4326"
   ]
  },
  {
   "cell_type": "markdown",
   "id": "ae4d13a1-b9e7-4497-9872-9e4fecceacae",
   "metadata": {},
   "source": [
    "#### 4. You are working on some statistics homework consisting of 100 questions where all of the answers are a probability rounded to the hundreths place. Looking to save time, you put down random probabilities as the answer to each question.\n",
    "\n",
    "- What is the probability that at least one of your first 60 answers is correct?"
   ]
  },
  {
   "cell_type": "code",
   "execution_count": 38,
   "id": "de96fee8-be1a-4283-acc7-9b093142185a",
   "metadata": {},
   "outputs": [
    {
     "data": {
      "text/plain": [
       "0.45"
      ]
     },
     "execution_count": 38,
     "metadata": {},
     "output_type": "execute_result"
    }
   ],
   "source": [
    "# 100 questions on the homework\n",
    "# answers are all probabilities to the 100th place\n",
    "# question: prob that that we get at least one out of first 60 correct?\n",
    "prob_success = 1 / 101\n",
    "num_trials = 60\n",
    "homework_dist = stats.binom(num_trials, prob_success)\n",
    "# survival for any amount over zero:\n",
    "round(homework_dist.sf(0), 2)"
   ]
  },
  {
   "cell_type": "markdown",
   "id": "406fa9b5-fd45-43ee-805a-1cfeebf37e15",
   "metadata": {},
   "source": [
    "#### 5. The codeup staff tends to get upset when the student break area is not cleaned up. Suppose that there's a 3% chance that any one student cleans the break area when they visit it, and, on any given day, about 90% of the 3 active cohorts of 22 students visit the break area. How likely is it that the break area gets cleaned up each day? How likely is it that it goes two days without getting cleaned up? All week?"
   ]
  },
  {
   "cell_type": "code",
   "execution_count": null,
   "id": "3da88e2e-9227-46f9-8b2f-5f5da0a316cf",
   "metadata": {},
   "outputs": [],
   "source": []
  },
  {
   "cell_type": "code",
   "execution_count": 44,
   "id": "80bf59d5-4429-4a3d-94be-816d1b46e05f",
   "metadata": {},
   "outputs": [],
   "source": [
    "# set-up:\n",
    "# success rate: 3%\n",
    "# number of trials: how many trials:\n",
    "# 0.9 * 3 * 22\n",
    "prob_success = 0.03\n",
    "num_trials  = int(0.9 * 3 * 22) # no partial people allowed at codeup"
   ]
  },
  {
   "cell_type": "code",
   "execution_count": 45,
   "id": "72cca54c-48ba-45ae-b3ec-680328158832",
   "metadata": {},
   "outputs": [],
   "source": [
    "cleaning_dist = stats.binom(num_trials, prob_success)"
   ]
  },
  {
   "cell_type": "code",
   "execution_count": 46,
   "id": "e7f912b0-a7c6-4cd2-b7c4-8aadbcc72b36",
   "metadata": {},
   "outputs": [
    {
     "data": {
      "text/plain": [
       "0.83"
      ]
     },
     "execution_count": 46,
     "metadata": {},
     "output_type": "execute_result"
    }
   ],
   "source": [
    "round(cleaning_dist.sf(0), 2)"
   ]
  },
  {
   "cell_type": "code",
   "execution_count": 49,
   "id": "e314c127-aa27-45fa-89d5-32f490384511",
   "metadata": {},
   "outputs": [
    {
     "data": {
      "text/plain": [
       "118.80000000000001"
      ]
     },
     "execution_count": 49,
     "metadata": {},
     "output_type": "execute_result"
    }
   ],
   "source": [
    "(0.9 * 3 * 22) * 2 -> 119"
   ]
  },
  {
   "cell_type": "code",
   "execution_count": 47,
   "id": "a8b24a06-cac0-41f1-b732-47142d01ad3a",
   "metadata": {},
   "outputs": [
    {
     "data": {
      "text/plain": [
       "0.026658541032798848"
      ]
     },
     "execution_count": 47,
     "metadata": {},
     "output_type": "execute_result"
    }
   ],
   "source": [
    "# if we want to know two days, lets expand that number of trials\n",
    "# that hanging decimal was 0.4, so we'll account for that 0.8 by\n",
    "# adding one to my doubled integer\n",
    "stats.binom(((num_trials * 2) + 1), prob_success).pmf(0)"
   ]
  },
  {
   "cell_type": "code",
   "execution_count": 51,
   "id": "67f0478a-0175-456e-a91f-c4f945e391c2",
   "metadata": {},
   "outputs": [],
   "source": [
    "# all week?\n",
    "# new_trial number:\n",
    "num_trials = round((0.9 * 3 * 22) * 5, 0)\n",
    "cleaning_dist = stats.binom(num_trials, prob_success)"
   ]
  },
  {
   "cell_type": "code",
   "execution_count": 52,
   "id": "b5c55521-9387-4ac1-95de-11831e9c2fdf",
   "metadata": {},
   "outputs": [
    {
     "data": {
      "text/plain": [
       "0.00011781621791055051"
      ]
     },
     "execution_count": 52,
     "metadata": {},
     "output_type": "execute_result"
    }
   ],
   "source": [
    "cleaning_dist.pmf(0)"
   ]
  },
  {
   "cell_type": "markdown",
   "id": "a9baa860-c54d-49c3-9943-89b7aa7d09c0",
   "metadata": {
    "tags": []
   },
   "source": [
    "#### 6. You want to get lunch at La Panaderia, but notice that the line is usually very long at lunchtime. After several weeks of careful observation, you notice that the average number of people in line when your lunch break starts is normally distributed with a mean of 15 and standard deviation of 3. If it takes 2 minutes for each person to order, and 10 minutes from ordering to getting your food, what is the likelihood that you have at least 15 minutes left to eat your food before you have to go back to class? Assume you have one hour for lunch, and ignore travel time to and from La Panaderia."
   ]
  },
  {
   "cell_type": "code",
   "execution_count": 53,
   "id": "7987e78e-8034-49ae-be7f-e70500398376",
   "metadata": {},
   "outputs": [],
   "source": [
    "# avg number of people in line is 15\n",
    "# standard deviation of 3\n",
    "# two minutes for each person to order\n",
    "# ten minutews from ordering to gettig food,\n",
    "# negligible commute time\n",
    "# what are the odds that we have 15 minutes left to eat?"
   ]
  },
  {
   "cell_type": "code",
   "execution_count": 54,
   "id": "fc5a2cf2-7f63-4319-9b2c-54bb8f44363c",
   "metadata": {},
   "outputs": [],
   "source": [
    "# convert people into minutes of time they take from lunch hour:\n",
    "# we want to know how much time we have, so lets think about\n",
    "# those people in terms of time\n",
    "μ = 15 * 2\n",
    "σ = 3 * 2"
   ]
  },
  {
   "cell_type": "code",
   "execution_count": 56,
   "id": "5e2d9e81-22b2-4cde-8b40-56e010f35052",
   "metadata": {},
   "outputs": [],
   "source": [
    "line_dist = stats.norm(μ, σ)"
   ]
  },
  {
   "cell_type": "code",
   "execution_count": 57,
   "id": "677f8ebd-8216-4a09-9c6f-4431d00d86a4",
   "metadata": {},
   "outputs": [
    {
     "data": {
      "text/plain": [
       "33"
      ]
     },
     "execution_count": 57,
     "metadata": {},
     "output_type": "execute_result"
    }
   ],
   "source": [
    "# time for lunch:\n",
    "# itll take *me* two minutes to order just like everyone else\n",
    "# I need 15 minutes to eat as well\n",
    "# ten minutes to get my order\n",
    "60 - (15 + 10 + 2) # lunch hour minus eat time, minus order time, minus wait time"
   ]
  },
  {
   "cell_type": "code",
   "execution_count": 59,
   "id": "8d2b04d9-437a-417c-a3d8-744eba010243",
   "metadata": {},
   "outputs": [
    {
     "data": {
      "text/plain": [
       "0.69"
      ]
     },
     "execution_count": 59,
     "metadata": {},
     "output_type": "execute_result"
    }
   ],
   "source": [
    "# we want the prob of the line taking 33 minutes or less\n",
    "# after all the constant factors that we subtracted\n",
    "round(line_dist.cdf(33), 2)"
   ]
  },
  {
   "cell_type": "markdown",
   "id": "adccc3f0-945f-42ad-a78b-fd5f77fc3b06",
   "metadata": {},
   "source": [
    "#### 7. Connect to the employees database and find the average salary of current employees, along with the standard deviation. For the following questions, calculate the answer based on modeling the employees salaries with a normal distribution defined by the calculated mean and standard deviation then compare this answer to the actual values present in the salaries dataset.\n",
    "\n",
    "What percent of employees earn less than 60,000?  \n",
    "What percent of employees earn more than 95,000?  \n",
    "What percent of employees earn between 65,000 and 80,000?  \n",
    "What do the top 5% of employees make?"
   ]
  },
  {
   "cell_type": "code",
   "execution_count": 60,
   "id": "a65ec655-7aa0-4566-83ab-84805e1f2295",
   "metadata": {},
   "outputs": [],
   "source": [
    "from env import user, password, host"
   ]
  },
  {
   "cell_type": "code",
   "execution_count": 62,
   "id": "cad34075-1daf-49f7-bac0-163ccf504219",
   "metadata": {},
   "outputs": [],
   "source": [
    "import pandas as pd"
   ]
  },
  {
   "cell_type": "code",
   "execution_count": 63,
   "id": "834536a0-190e-400b-88f0-49b76651a92a",
   "metadata": {},
   "outputs": [],
   "source": [
    "# we want to connect to the db, and makea request\n",
    "# my query:\n",
    "# \n",
    "query = '''\n",
    "SELECT * FROM salaries s WHERE s.to_date > NOW()\n",
    "'''\n",
    "connection = f'mysql+pymysql://{user}:{password}@{host}/employees'\n",
    "\n",
    "# try reading that into pandas:\n",
    "df = pd.read_sql(query, connection)"
   ]
  },
  {
   "cell_type": "code",
   "execution_count": 64,
   "id": "63e80d6a-4539-4f64-a7de-938a1375abff",
   "metadata": {},
   "outputs": [
    {
     "data": {
      "text/html": [
       "<div>\n",
       "<style scoped>\n",
       "    .dataframe tbody tr th:only-of-type {\n",
       "        vertical-align: middle;\n",
       "    }\n",
       "\n",
       "    .dataframe tbody tr th {\n",
       "        vertical-align: top;\n",
       "    }\n",
       "\n",
       "    .dataframe thead th {\n",
       "        text-align: right;\n",
       "    }\n",
       "</style>\n",
       "<table border=\"1\" class=\"dataframe\">\n",
       "  <thead>\n",
       "    <tr style=\"text-align: right;\">\n",
       "      <th></th>\n",
       "      <th>emp_no</th>\n",
       "      <th>salary</th>\n",
       "      <th>from_date</th>\n",
       "      <th>to_date</th>\n",
       "    </tr>\n",
       "  </thead>\n",
       "  <tbody>\n",
       "    <tr>\n",
       "      <th>0</th>\n",
       "      <td>10001</td>\n",
       "      <td>88958</td>\n",
       "      <td>2002-06-22</td>\n",
       "      <td>9999-01-01</td>\n",
       "    </tr>\n",
       "    <tr>\n",
       "      <th>1</th>\n",
       "      <td>10002</td>\n",
       "      <td>72527</td>\n",
       "      <td>2001-08-02</td>\n",
       "      <td>9999-01-01</td>\n",
       "    </tr>\n",
       "    <tr>\n",
       "      <th>2</th>\n",
       "      <td>10003</td>\n",
       "      <td>43311</td>\n",
       "      <td>2001-12-01</td>\n",
       "      <td>9999-01-01</td>\n",
       "    </tr>\n",
       "    <tr>\n",
       "      <th>3</th>\n",
       "      <td>10004</td>\n",
       "      <td>74057</td>\n",
       "      <td>2001-11-27</td>\n",
       "      <td>9999-01-01</td>\n",
       "    </tr>\n",
       "    <tr>\n",
       "      <th>4</th>\n",
       "      <td>10005</td>\n",
       "      <td>94692</td>\n",
       "      <td>2001-09-09</td>\n",
       "      <td>9999-01-01</td>\n",
       "    </tr>\n",
       "  </tbody>\n",
       "</table>\n",
       "</div>"
      ],
      "text/plain": [
       "   emp_no  salary   from_date     to_date\n",
       "0   10001   88958  2002-06-22  9999-01-01\n",
       "1   10002   72527  2001-08-02  9999-01-01\n",
       "2   10003   43311  2001-12-01  9999-01-01\n",
       "3   10004   74057  2001-11-27  9999-01-01\n",
       "4   10005   94692  2001-09-09  9999-01-01"
      ]
     },
     "execution_count": 64,
     "metadata": {},
     "output_type": "execute_result"
    }
   ],
   "source": [
    "df.head()"
   ]
  },
  {
   "cell_type": "code",
   "execution_count": 66,
   "id": "980c6286-1f02-4a70-a0d1-1f8c298c30c4",
   "metadata": {},
   "outputs": [],
   "source": [
    "# lets rip out the std and mean from the salaries here:\n",
    "sal_stats = df.salary.agg(['mean', 'std'])"
   ]
  },
  {
   "cell_type": "code",
   "execution_count": 68,
   "id": "659d0a40-548d-4aab-9042-707be2e0ff0b",
   "metadata": {},
   "outputs": [
    {
     "data": {
      "text/plain": [
       "array([72012.23585731, 17309.99538025])"
      ]
     },
     "execution_count": 68,
     "metadata": {},
     "output_type": "execute_result"
    }
   ],
   "source": [
    "sal_stats.values"
   ]
  },
  {
   "cell_type": "code",
   "execution_count": 69,
   "id": "97603c6e-c4ae-44be-93dd-4e166986e6f7",
   "metadata": {},
   "outputs": [],
   "source": [
    "# we can use the star to unpack positional args\n",
    "# from an iterable in the right order\n",
    "#  ** will unpack kwargs from a dictionary\n",
    "salary_dist = stats.norm(*sal_stats.values)"
   ]
  },
  {
   "cell_type": "markdown",
   "id": "697e215e-c7bf-45bd-83f4-8b37653176ec",
   "metadata": {},
   "source": [
    "What percent of employees earn less than 60,000?  "
   ]
  },
  {
   "cell_type": "code",
   "execution_count": 71,
   "id": "1909bcb0-d0e8-4339-992b-d77caa185068",
   "metadata": {},
   "outputs": [
    {
     "data": {
      "text/plain": [
       "0.24"
      ]
     },
     "execution_count": 71,
     "metadata": {},
     "output_type": "execute_result"
    }
   ],
   "source": [
    "# prob of being less than 60k?\n",
    "round(salary_dist.cdf(60_000), 2)"
   ]
  },
  {
   "cell_type": "markdown",
   "id": "cc99cae6-0475-47dd-b37c-0d6551c06bae",
   "metadata": {},
   "source": [
    "What percent of employees earn more than 95,000?  "
   ]
  },
  {
   "cell_type": "code",
   "execution_count": 72,
   "id": "3eb8207c-9467-4f14-b951-e6b2932bd5bd",
   "metadata": {},
   "outputs": [
    {
     "data": {
      "text/plain": [
       "0.09"
      ]
     },
     "execution_count": 72,
     "metadata": {},
     "output_type": "execute_result"
    }
   ],
   "source": [
    "# prob of earning more than 95k?\n",
    "round(salary_dist.sf(95_000), 2)"
   ]
  },
  {
   "cell_type": "markdown",
   "id": "0b97235e-80fb-4322-939a-ccfac52be182",
   "metadata": {},
   "source": [
    "What percent of employees earn between 65,000 and 80,000? "
   ]
  },
  {
   "cell_type": "code",
   "execution_count": 73,
   "id": "80c65f3f-e0ee-427e-86e7-90ad891a27ad",
   "metadata": {},
   "outputs": [],
   "source": [
    "# cumulative probability of the higher salary,\n",
    "# cumulative probability of the lower salary\n",
    "# get the difference, get the range between the two in terms of\n",
    "# percentage.\n",
    "high_sal, lower_sal = salary_dist.cdf([80_000, 65_000])\n",
    "salary_bracket = high_sal - lower_sal"
   ]
  },
  {
   "cell_type": "code",
   "execution_count": 80,
   "id": "a41bd1bb-a6b5-4542-9193-34bd053caf99",
   "metadata": {},
   "outputs": [
    {
     "data": {
      "text/plain": [
       "0.34"
      ]
     },
     "execution_count": 80,
     "metadata": {},
     "output_type": "execute_result"
    }
   ],
   "source": [
    "round(salary_bracket, 2)"
   ]
  },
  {
   "cell_type": "markdown",
   "id": "75d4d09a-8dd9-4ef0-b806-66e4f566fb7a",
   "metadata": {},
   "source": [
    "What do the top 5% of employees make?"
   ]
  },
  {
   "cell_type": "code",
   "execution_count": 76,
   "id": "4795d23e-cd53-4e28-9b8b-12f51434781d",
   "metadata": {},
   "outputs": [
    {
     "data": {
      "text/plain": [
       "100484.64454102777"
      ]
     },
     "execution_count": 76,
     "metadata": {},
     "output_type": "execute_result"
    }
   ],
   "source": [
    "# top 5%?\n",
    "# 0.05 from the top,\n",
    "# have a prob, looking for a value:\n",
    "# inverse survival\n",
    "salary_dist.isf(0.05)"
   ]
  },
  {
   "cell_type": "code",
   "execution_count": 77,
   "id": "24280f1b-273e-4560-bdec-d90c322bfde8",
   "metadata": {},
   "outputs": [
    {
     "data": {
      "text/plain": [
       "100484.64454102775"
      ]
     },
     "execution_count": 77,
     "metadata": {},
     "output_type": "execute_result"
    }
   ],
   "source": [
    "salary_dist.ppf(0.95)"
   ]
  },
  {
   "cell_type": "code",
   "execution_count": null,
   "id": "2f42f1eb-b62a-4fb9-9d1f-eb9f2077fc00",
   "metadata": {},
   "outputs": [],
   "source": []
  },
  {
   "cell_type": "code",
   "execution_count": 2,
   "id": "6115ebfc-50c9-4058-a9f2-0922071b41db",
   "metadata": {},
   "outputs": [],
   "source": [
    "# for viz\n",
    "import matplotlib.pyplot as plt\n",
    "# for statistics\n",
    "from scipy import stats\n",
    "# for numerical data:\n",
    "import numpy as np"
   ]
  },
  {
   "cell_type": "markdown",
   "id": "9a1a286f-852e-4d40-bd4b-68bc80e339ce",
   "metadata": {
    "tags": []
   },
   "source": [
    "#### 1. A bank found that the average number of cars waiting during the noon hour at a drive-up window follows a Poisson distribution with a mean of 2 cars. Make a chart of this distribution and answer these questions concerning the probability of cars waiting at the drive-up window.\n",
    "\n",
    "What is the probability that no cars drive up in the noon hour?  "
   ]
  },
  {
   "cell_type": "code",
   "execution_count": 3,
   "id": "e9a81909-418e-4349-a00a-09c811a03c65",
   "metadata": {},
   "outputs": [],
   "source": [
    "# what do i need to define a poisson distribution?\n",
    "# I have my one metric of 2 cars on average per window of 1 hour\n",
    "λ = 2 # The one hour window is contextual through our understanding\n",
    "cars_dist = stats.poisson(λ)"
   ]
  },
  {
   "cell_type": "code",
   "execution_count": 6,
   "id": "f5eb3dc4-8088-442c-a342-3f773d608faa",
   "metadata": {},
   "outputs": [
    {
     "data": {
      "image/png": "[encoded data removed]",
      "text/plain": [
       "<Figure size 640x480 with 1 Axes>"
      ]
     },
     "metadata": {},
     "output_type": "display_data"
    }
   ],
   "source": [
    "# how make a chart?\n",
    "# make a domain? 0 - 11\n",
    "# make a range? PMF: the probability of any given instance happening\n",
    "xs = range(12)\n",
    "ys = [cars_dist.pmf(x) for x in xs]\n",
    "plt.bar(xs, ys)\n",
    "plt.title('Probability of Number of Cars in the Lunch Hour Window')\n",
    "plt.show()"
   ]
  },
  {
   "cell_type": "code",
   "execution_count": 7,
   "id": "cba45798-575c-47cc-9f64-b75cd5c60c54",
   "metadata": {},
   "outputs": [
    {
     "data": {
      "text/plain": [
       "0.1353352832366127"
      ]
     },
     "execution_count": 7,
     "metadata": {},
     "output_type": "execute_result"
    }
   ],
   "source": [
    "# i have my dist set up and I want to answer:\n",
    "# probability of zero cars showing up in the noon hour?\n",
    "# what can I use to figure this out?\n",
    "# looking for an exact value, PMF!\n",
    "cars_dist.pmf(0)"
   ]
  },
  {
   "cell_type": "code",
   "execution_count": 8,
   "id": "4784f1c3-d7e2-491b-b2ea-c016658afc9f",
   "metadata": {},
   "outputs": [
    {
     "data": {
      "text/plain": [
       "0.1353352832366127"
      ]
     },
     "execution_count": 8,
     "metadata": {},
     "output_type": "execute_result"
    }
   ],
   "source": [
    "# what about zero or less?\n",
    "cars_dist.cdf(0)"
   ]
  },
  {
   "cell_type": "code",
   "execution_count": 9,
   "id": "25455d94-cbe4-4a2a-9701-763a49002ecf",
   "metadata": {},
   "outputs": [
    {
     "data": {
      "text/plain": [
       "0.1353352832366127"
      ]
     },
     "execution_count": 9,
     "metadata": {},
     "output_type": "execute_result"
    }
   ],
   "source": [
    "# what about the possibility of every thing\n",
    "# minus the possibility of 1 or more?\n",
    "1 - cars_dist.sf(0)"
   ]
  },
  {
   "cell_type": "markdown",
   "id": "577aee36-f4b8-4595-adae-61a1e0782128",
   "metadata": {
    "tags": []
   },
   "source": [
    "#### 2. Grades of State University graduates are normally distributed with a mean of 3.0 and a standard deviation of .3. Calculate the following:\n",
    "\n",
    "- What grade point average is required to be in the top 5% of the graduating class?  \n",
    "- What GPA constitutes the bottom 15% of the class?  \n",
    "- An eccentric alumnus left scholarship money for students in the third decile from the bottom of their class. Determine the range of the third decile. Would a student with a 2.8 grade point average qualify for this scholarship?  \n",
    "- If I have a GPA of 3.5, what percentile am I in?"
   ]
  },
  {
   "cell_type": "code",
   "execution_count": 14,
   "id": "6a411d47-2d44-409f-85e6-62120e102340",
   "metadata": {},
   "outputs": [],
   "source": [
    "# one thing at a time:\n",
    "# make the distribution\n",
    "μ = 3.0\n",
    "σ = 0.3\n",
    "grades_dist = stats.norm(μ, σ)"
   ]
  },
  {
   "cell_type": "code",
   "execution_count": 16,
   "id": "4056464e-b4ce-441e-ab8f-216ac544531a",
   "metadata": {},
   "outputs": [
    {
     "data": {
      "text/plain": [
       "3.49"
      ]
     },
     "execution_count": 16,
     "metadata": {},
     "output_type": "execute_result"
    }
   ],
   "source": [
    "# what gpa to be in the top 5%?\n",
    "# top 5 % -> count from right side and use inverse survival\n",
    "round(grades_dist.isf(0.05), 2)"
   ]
  },
  {
   "cell_type": "code",
   "execution_count": 21,
   "id": "c2b2b887-e9b7-473d-8967-bf23e9aa63b2",
   "metadata": {},
   "outputs": [
    {
     "data": {
      "text/plain": [
       "3.49"
      ]
     },
     "execution_count": 21,
     "metadata": {},
     "output_type": "execute_result"
    }
   ],
   "source": [
    "round(grades_dist.ppf(0.95), 2)"
   ]
  },
  {
   "cell_type": "code",
   "execution_count": 18,
   "id": "7868b800-4bf3-4901-aa39-ea361ff2f4f1",
   "metadata": {},
   "outputs": [],
   "source": [
    "# what gpa is the bottom 15% threshold?"
   ]
  },
  {
   "cell_type": "code",
   "execution_count": 19,
   "id": "01865088-92ea-49f1-a654-655616f45f15",
   "metadata": {},
   "outputs": [],
   "source": [
    "# bottom 15%, same as the top 85%?"
   ]
  },
  {
   "cell_type": "code",
   "execution_count": 22,
   "id": "aa3ec27e-3946-4b13-b301-eebf12ba10a7",
   "metadata": {},
   "outputs": [
    {
     "data": {
      "text/plain": [
       "2.69"
      ]
     },
     "execution_count": 22,
     "metadata": {},
     "output_type": "execute_result"
    }
   ],
   "source": [
    "round(grades_dist.ppf(0.15), 2)"
   ]
  },
  {
   "cell_type": "markdown",
   "id": "235455d7-8434-4960-8d83-ad84b42c4e1e",
   "metadata": {},
   "source": [
    "An eccentric alumnus left scholarship money for students in the third decile from the bottom of their class. Determine the range of the third decile. Would a student with a 2.8 grade point average qualify for this scholarship?  "
   ]
  },
  {
   "cell_type": "markdown",
   "id": "ad4f8061-5b46-4f5a-bdcd-695c290a246a",
   "metadata": {
    "tags": []
   },
   "source": [
    "1st decile: 0-10 percentile  \n",
    "2nd decile: 10-20 percentile   \n",
    "3rd decile: 20-30 percentile"
   ]
  },
  {
   "cell_type": "code",
   "execution_count": 23,
   "id": "d15d9e71-804a-44b6-9c0b-fcc6a5786382",
   "metadata": {},
   "outputs": [
    {
     "data": {
      "text/plain": [
       "2.7475136299281258"
      ]
     },
     "execution_count": 23,
     "metadata": {},
     "output_type": "execute_result"
    }
   ],
   "source": [
    "grades_dist.ppf(0.2)"
   ]
  },
  {
   "cell_type": "code",
   "execution_count": 24,
   "id": "8141a839-207b-4881-a233-d9bc8e6368c2",
   "metadata": {},
   "outputs": [
    {
     "data": {
      "text/plain": [
       "2.842679846187588"
      ]
     },
     "execution_count": 24,
     "metadata": {},
     "output_type": "execute_result"
    }
   ],
   "source": [
    "grades_dist.ppf(0.3)"
   ]
  },
  {
   "cell_type": "code",
   "execution_count": 25,
   "id": "bebcdae8-10df-4721-8188-73fa0e3c33ed",
   "metadata": {},
   "outputs": [],
   "source": [
    "lower_fence, upper_fence = grades_dist.ppf([0.2,0.3])"
   ]
  },
  {
   "cell_type": "code",
   "execution_count": 26,
   "id": "c3a304b1-e28c-4a69-8962-e9562043e668",
   "metadata": {},
   "outputs": [
    {
     "data": {
      "text/plain": [
       "(2.7475136299281258, 2.842679846187588)"
      ]
     },
     "execution_count": 26,
     "metadata": {},
     "output_type": "execute_result"
    }
   ],
   "source": [
    "lower_fence, upper_fence"
   ]
  },
  {
   "cell_type": "code",
   "execution_count": 27,
   "id": "de765962-7bcc-4903-8b58-27ec39da47f0",
   "metadata": {},
   "outputs": [],
   "source": [
    "candidate_grade = 2.8"
   ]
  },
  {
   "cell_type": "code",
   "execution_count": 28,
   "id": "89450c3e-468b-4515-a7fb-2b20dd31bc80",
   "metadata": {},
   "outputs": [
    {
     "data": {
      "text/plain": [
       "True"
      ]
     },
     "execution_count": 28,
     "metadata": {},
     "output_type": "execute_result"
    }
   ],
   "source": [
    "lower_fence < candidate_grade < upper_fence"
   ]
  },
  {
   "cell_type": "markdown",
   "id": "f00ef950-28cd-4257-aa3e-0270c11a2514",
   "metadata": {},
   "source": [
    "If I have a GPA of 3.5, what percentile am I in?"
   ]
  },
  {
   "cell_type": "code",
   "execution_count": 31,
   "id": "6f1c2afa-6770-4292-9d32-5bb0de650191",
   "metadata": {},
   "outputs": [
    {
     "data": {
      "text/plain": [
       "0.95"
      ]
     },
     "execution_count": 31,
     "metadata": {},
     "output_type": "execute_result"
    }
   ],
   "source": [
    "round(grades_dist.cdf(3.5), 2) # from the left side"
   ]
  },
  {
   "cell_type": "code",
   "execution_count": 32,
   "id": "072f807c-6d16-4290-9c82-3801e43f526a",
   "metadata": {},
   "outputs": [
    {
     "data": {
      "text/plain": [
       "0.05"
      ]
     },
     "execution_count": 32,
     "metadata": {},
     "output_type": "execute_result"
    }
   ],
   "source": [
    "round(grades_dist.sf(3.5), 2) # right the right side,\n",
    "# we are in the top ~4.7% of our class"
   ]
  },
  {
   "cell_type": "markdown",
   "id": "42992f87-8951-488e-8098-f205ea64f1d4",
   "metadata": {
    "tags": []
   },
   "source": [
    "#### 3. A marketing website has an average click-through rate of 2%. One day they observe 4326 visitors and 97 click-throughs. How likely is it that this many people or more click through?"
   ]
  },
  {
   "cell_type": "code",
   "execution_count": 34,
   "id": "a576e177-484c-4e4c-8dba-4af02ed3e684",
   "metadata": {},
   "outputs": [
    {
     "data": {
      "text/plain": [
       "0.14"
      ]
     },
     "execution_count": 34,
     "metadata": {},
     "output_type": "execute_result"
    }
   ],
   "source": [
    "# what type of distribution?\n",
    "# click-though rate:\n",
    "# rate of success: 0.02\n",
    "# trials: 4326\n",
    "# 97 or more clickthroughs: survival function!\n",
    "\n",
    "clicks_dist = stats.binom(4326, 0.02)\n",
    "# under this distribution, my odds of getting 97 or more clickthroughs?\n",
    "round(clicks_dist.sf(96), 2)"
   ]
  },
  {
   "cell_type": "code",
   "execution_count": null,
   "id": "896785b1-b334-4a50-9745-678a08226f85",
   "metadata": {},
   "outputs": [],
   "source": [
    "# about a 14 % chance of that happening"
   ]
  },
  {
   "cell_type": "code",
   "execution_count": 35,
   "id": "d8271a5e-4c2f-4b65-ae7a-ebc1c3f3c4e3",
   "metadata": {},
   "outputs": [],
   "source": [
    "# if we thought about this in terms of a poisson, we could:\n",
    "# lambda: probability of success over that specific window\n",
    "# lambda = 0.02 * 4326"
   ]
  },
  {
   "cell_type": "markdown",
   "id": "254d68cc-f269-4853-942d-c33669b5ea89",
   "metadata": {},
   "source": [
    "#### 4. You are working on some statistics homework consisting of 100 questions where all of the answers are a probability rounded to the hundreths place. Looking to save time, you put down random probabilities as the answer to each question.\n",
    "\n",
    "- What is the probability that at least one of your first 60 answers is correct?"
   ]
  },
  {
   "cell_type": "code",
   "execution_count": 38,
   "id": "160eb57b-33f6-4805-a597-5c671cb696b1",
   "metadata": {},
   "outputs": [
    {
     "data": {
      "text/plain": [
       "0.45"
      ]
     },
     "execution_count": 38,
     "metadata": {},
     "output_type": "execute_result"
    }
   ],
   "source": [
    "# 100 questions on the homework\n",
    "# answers are all probabilities to the 100th place\n",
    "# question: prob that that we get at least one out of first 60 correct?\n",
    "prob_success = 1 / 101\n",
    "num_trials = 60\n",
    "homework_dist = stats.binom(num_trials, prob_success)\n",
    "# survival for any amount over zero:\n",
    "round(homework_dist.sf(0), 2)"
   ]
  },
  {
   "cell_type": "markdown",
   "id": "0f2e5fed-c04a-4d1f-8614-efb8a4de8840",
   "metadata": {},
   "source": [
    "#### 5. The codeup staff tends to get upset when the student break area is not cleaned up. Suppose that there's a 3% chance that any one student cleans the break area when they visit it, and, on any given day, about 90% of the 3 active cohorts of 22 students visit the break area. How likely is it that the break area gets cleaned up each day? How likely is it that it goes two days without getting cleaned up? All week?"
   ]
  },
  {
   "cell_type": "code",
   "execution_count": null,
   "id": "8b68752e-c30c-4a6a-81b5-5b0e832b67b7",
   "metadata": {},
   "outputs": [],
   "source": []
  },
  {
   "cell_type": "code",
   "execution_count": 44,
   "id": "3a3536ec-12ce-4e92-ac1a-9765711fa7af",
   "metadata": {},
   "outputs": [],
   "source": [
    "# set-up:\n",
    "# success rate: 3%\n",
    "# number of trials: how many trials:\n",
    "# 0.9 * 3 * 22\n",
    "prob_success = 0.03\n",
    "num_trials  = int(0.9 * 3 * 22) # no partial people allowed at codeup"
   ]
  },
  {
   "cell_type": "code",
   "execution_count": 45,
   "id": "8922a058-8777-4739-a430-5dc2b0bdf161",
   "metadata": {},
   "outputs": [],
   "source": [
    "cleaning_dist = stats.binom(num_trials, prob_success)"
   ]
  },
  {
   "cell_type": "code",
   "execution_count": 46,
   "id": "adf09d22-4f33-42bd-9e84-87e04e305603",
   "metadata": {},
   "outputs": [
    {
     "data": {
      "text/plain": [
       "0.83"
      ]
     },
     "execution_count": 46,
     "metadata": {},
     "output_type": "execute_result"
    }
   ],
   "source": [
    "round(cleaning_dist.sf(0), 2)"
   ]
  },
  {
   "cell_type": "code",
   "execution_count": 49,
   "id": "146afbdb-6bd2-4995-a8d4-f88c261d8f44",
   "metadata": {},
   "outputs": [
    {
     "data": {
      "text/plain": [
       "118.80000000000001"
      ]
     },
     "execution_count": 49,
     "metadata": {},
     "output_type": "execute_result"
    }
   ],
   "source": [
    "(0.9 * 3 * 22) * 2 -> 119"
   ]
  },
  {
   "cell_type": "code",
   "execution_count": 47,
   "id": "d796d406-9f2a-457c-9b9f-b82e301f54bd",
   "metadata": {},
   "outputs": [
    {
     "data": {
      "text/plain": [
       "0.026658541032798848"
      ]
     },
     "execution_count": 47,
     "metadata": {},
     "output_type": "execute_result"
    }
   ],
   "source": [
    "# if we want to know two days, lets expand that number of trials\n",
    "# that hanging decimal was 0.4, so we'll account for that 0.8 by\n",
    "# adding one to my doubled integer\n",
    "stats.binom(((num_trials * 2) + 1), prob_success).pmf(0)"
   ]
  },
  {
   "cell_type": "code",
   "execution_count": 51,
   "id": "f20f2265-402c-487a-aa19-d8b80e0645ec",
   "metadata": {},
   "outputs": [],
   "source": [
    "# all week?\n",
    "# new_trial number:\n",
    "num_trials = round((0.9 * 3 * 22) * 5, 0)\n",
    "cleaning_dist = stats.binom(num_trials, prob_success)"
   ]
  },
  {
   "cell_type": "code",
   "execution_count": 52,
   "id": "101f9f26-b5d9-4a06-944c-c18e6a1140f2",
   "metadata": {},
   "outputs": [
    {
     "data": {
      "text/plain": [
       "0.00011781621791055051"
      ]
     },
     "execution_count": 52,
     "metadata": {},
     "output_type": "execute_result"
    }
   ],
   "source": [
    "cleaning_dist.pmf(0)"
   ]
  },
  {
   "cell_type": "markdown",
   "id": "5b338e37-ccbd-4f5f-a1ba-cc0777d7734b",
   "metadata": {
    "tags": []
   },
   "source": [
    "#### 6. You want to get lunch at La Panaderia, but notice that the line is usually very long at lunchtime. After several weeks of careful observation, you notice that the average number of people in line when your lunch break starts is normally distributed with a mean of 15 and standard deviation of 3. If it takes 2 minutes for each person to order, and 10 minutes from ordering to getting your food, what is the likelihood that you have at least 15 minutes left to eat your food before you have to go back to class? Assume you have one hour for lunch, and ignore travel time to and from La Panaderia."
   ]
  },
  {
   "cell_type": "code",
   "execution_count": 53,
   "id": "5d69fa3d-64cf-41e9-bb5c-aa8006f48264",
   "metadata": {},
   "outputs": [],
   "source": [
    "# avg number of people in line is 15\n",
    "# standard deviation of 3\n",
    "# two minutes for each person to order\n",
    "# ten minutews from ordering to gettig food,\n",
    "# negligible commute time\n",
    "# what are the odds that we have 15 minutes left to eat?"
   ]
  },
  {
   "cell_type": "code",
   "execution_count": 54,
   "id": "3b3e0233-e584-4a49-86bb-7dc3f03ccd54",
   "metadata": {},
   "outputs": [],
   "source": [
    "# convert people into minutes of time they take from lunch hour:\n",
    "# we want to know how much time we have, so lets think about\n",
    "# those people in terms of time\n",
    "μ = 15 * 2\n",
    "σ = 3 * 2"
   ]
  },
  {
   "cell_type": "code",
   "execution_count": 56,
   "id": "dc4a3639-7897-4e72-96bc-e65ca7150769",
   "metadata": {},
   "outputs": [],
   "source": [
    "line_dist = stats.norm(μ, σ)"
   ]
  },
  {
   "cell_type": "code",
   "execution_count": 57,
   "id": "d6cbb3d7-45cf-4a18-bc71-7272b2311750",
   "metadata": {},
   "outputs": [
    {
     "data": {
      "text/plain": [
       "33"
      ]
     },
     "execution_count": 57,
     "metadata": {},
     "output_type": "execute_result"
    }
   ],
   "source": [
    "# time for lunch:\n",
    "# itll take *me* two minutes to order just like everyone else\n",
    "# I need 15 minutes to eat as well\n",
    "# ten minutes to get my order\n",
    "60 - (15 + 10 + 2) # lunch hour minus eat time, minus order time, minus wait time"
   ]
  },
  {
   "cell_type": "code",
   "execution_count": 59,
   "id": "de73e0b3-678e-4efd-bfeb-c09554c7f640",
   "metadata": {},
   "outputs": [
    {
     "data": {
      "text/plain": [
       "0.69"
      ]
     },
     "execution_count": 59,
     "metadata": {},
     "output_type": "execute_result"
    }
   ],
   "source": [
    "# we want the prob of the line taking 33 minutes or less\n",
    "# after all the constant factors that we subtracted\n",
    "round(line_dist.cdf(33), 2)"
   ]
  },
  {
   "cell_type": "markdown",
   "id": "edac3fef-9b74-4c93-a4b7-d043bcfc8896",
   "metadata": {},
   "source": [
    "#### 7. Connect to the employees database and find the average salary of current employees, along with the standard deviation. For the following questions, calculate the answer based on modeling the employees salaries with a normal distribution defined by the calculated mean and standard deviation then compare this answer to the actual values present in the salaries dataset.\n",
    "\n",
    "What percent of employees earn less than 60,000?  \n",
    "What percent of employees earn more than 95,000?  \n",
    "What percent of employees earn between 65,000 and 80,000?  \n",
    "What do the top 5% of employees make?"
   ]
  },
  {
   "cell_type": "code",
   "execution_count": 60,
   "id": "34dc2d7d-bd20-4ec6-a566-f0e2217ef8d1",
   "metadata": {},
   "outputs": [],
   "source": [
    "from env import user, password, host"
   ]
  },
  {
   "cell_type": "code",
   "execution_count": 62,
   "id": "6b13d4cb-c22e-436e-ad24-d2549d352ce7",
   "metadata": {},
   "outputs": [],
   "source": [
    "import pandas as pd"
   ]
  },
  {
   "cell_type": "code",
   "execution_count": 63,
   "id": "25cf20ab-26fc-4538-9b29-981e4e7e050e",
   "metadata": {},
   "outputs": [],
   "source": [
    "# we want to connect to the db, and makea request\n",
    "# my query:\n",
    "# \n",
    "query = '''\n",
    "SELECT * FROM salaries s WHERE s.to_date > NOW()\n",
    "'''\n",
    "connection = f'mysql+pymysql://{user}:{password}@{host}/employees'\n",
    "\n",
    "# try reading that into pandas:\n",
    "df = pd.read_sql(query, connection)"
   ]
  },
  {
   "cell_type": "code",
   "execution_count": 64,
   "id": "b0fb023b-87f6-49ad-961a-c2deac9cb818",
   "metadata": {},
   "outputs": [
    {
     "data": {
      "text/html": [
       "<div>\n",
       "<style scoped>\n",
       "    .dataframe tbody tr th:only-of-type {\n",
       "        vertical-align: middle;\n",
       "    }\n",
       "\n",
       "    .dataframe tbody tr th {\n",
       "        vertical-align: top;\n",
       "    }\n",
       "\n",
       "    .dataframe thead th {\n",
       "        text-align: right;\n",
       "    }\n",
       "</style>\n",
       "<table border=\"1\" class=\"dataframe\">\n",
       "  <thead>\n",
       "    <tr style=\"text-align: right;\">\n",
       "      <th></th>\n",
       "      <th>emp_no</th>\n",
       "      <th>salary</th>\n",
       "      <th>from_date</th>\n",
       "      <th>to_date</th>\n",
       "    </tr>\n",
       "  </thead>\n",
       "  <tbody>\n",
       "    <tr>\n",
       "      <th>0</th>\n",
       "      <td>10001</td>\n",
       "      <td>88958</td>\n",
       "      <td>2002-06-22</td>\n",
       "      <td>9999-01-01</td>\n",
       "    </tr>\n",
       "    <tr>\n",
       "      <th>1</th>\n",
       "      <td>10002</td>\n",
       "      <td>72527</td>\n",
       "      <td>2001-08-02</td>\n",
       "      <td>9999-01-01</td>\n",
       "    </tr>\n",
       "    <tr>\n",
       "      <th>2</th>\n",
       "      <td>10003</td>\n",
       "      <td>43311</td>\n",
       "      <td>2001-12-01</td>\n",
       "      <td>9999-01-01</td>\n",
       "    </tr>\n",
       "    <tr>\n",
       "      <th>3</th>\n",
       "      <td>10004</td>\n",
       "      <td>74057</td>\n",
       "      <td>2001-11-27</td>\n",
       "      <td>9999-01-01</td>\n",
       "    </tr>\n",
       "    <tr>\n",
       "      <th>4</th>\n",
       "      <td>10005</td>\n",
       "      <td>94692</td>\n",
       "      <td>2001-09-09</td>\n",
       "      <td>9999-01-01</td>\n",
       "    </tr>\n",
       "  </tbody>\n",
       "</table>\n",
       "</div>"
      ],
      "text/plain": [
       "   emp_no  salary   from_date     to_date\n",
       "0   10001   88958  2002-06-22  9999-01-01\n",
       "1   10002   72527  2001-08-02  9999-01-01\n",
       "2   10003   43311  2001-12-01  9999-01-01\n",
       "3   10004   74057  2001-11-27  9999-01-01\n",
       "4   10005   94692  2001-09-09  9999-01-01"
      ]
     },
     "execution_count": 64,
     "metadata": {},
     "output_type": "execute_result"
    }
   ],
   "source": [
    "df.head()"
   ]
  },
  {
   "cell_type": "code",
   "execution_count": 66,
   "id": "d3a33928-6696-4d6f-8e42-36951f0a023c",
   "metadata": {},
   "outputs": [],
   "source": [
    "# lets rip out the std and mean from the salaries here:\n",
    "sal_stats = df.salary.agg(['mean', 'std'])"
   ]
  },
  {
   "cell_type": "code",
   "execution_count": 68,
   "id": "50778dbd-0475-45e8-873a-555538587153",
   "metadata": {},
   "outputs": [
    {
     "data": {
      "text/plain": [
       "array([72012.23585731, 17309.99538025])"
      ]
     },
     "execution_count": 68,
     "metadata": {},
     "output_type": "execute_result"
    }
   ],
   "source": [
    "sal_stats.values"
   ]
  },
  {
   "cell_type": "code",
   "execution_count": 69,
   "id": "7a82a6de-df13-4e83-a35f-c75e26c50c23",
   "metadata": {},
   "outputs": [],
   "source": [
    "# we can use the star to unpack positional args\n",
    "# from an iterable in the right order\n",
    "#  ** will unpack kwargs from a dictionary\n",
    "salary_dist = stats.norm(*sal_stats.values)"
   ]
  },
  {
   "cell_type": "markdown",
   "id": "5312921e-130c-414f-aacc-ab71babb5650",
   "metadata": {},
   "source": [
    "What percent of employees earn less than 60,000?  "
   ]
  },
  {
   "cell_type": "code",
   "execution_count": 71,
   "id": "609b7422-0cc8-46f4-956a-92af931f36e6",
   "metadata": {},
   "outputs": [
    {
     "data": {
      "text/plain": [
       "0.24"
      ]
     },
     "execution_count": 71,
     "metadata": {},
     "output_type": "execute_result"
    }
   ],
   "source": [
    "# prob of being less than 60k?\n",
    "round(salary_dist.cdf(60_000), 2)"
   ]
  },
  {
   "cell_type": "markdown",
   "id": "9e73e529-10f3-431a-8519-61fb270f1f72",
   "metadata": {},
   "source": [
    "What percent of employees earn more than 95,000?  "
   ]
  },
  {
   "cell_type": "code",
   "execution_count": 72,
   "id": "0d6ed6ca-ff15-4673-aafa-51b520a11577",
   "metadata": {},
   "outputs": [
    {
     "data": {
      "text/plain": [
       "0.09"
      ]
     },
     "execution_count": 72,
     "metadata": {},
     "output_type": "execute_result"
    }
   ],
   "source": [
    "# prob of earning more than 95k?\n",
    "round(salary_dist.sf(95_000), 2)"
   ]
  },
  {
   "cell_type": "markdown",
   "id": "4847d98b-19ca-4553-814c-b310943c6eaa",
   "metadata": {},
   "source": [
    "What percent of employees earn between 65,000 and 80,000? "
   ]
  },
  {
   "cell_type": "code",
   "execution_count": 73,
   "id": "5e764bd3-cb15-41fe-bed2-801d2a9c96ab",
   "metadata": {},
   "outputs": [],
   "source": [
    "# cumulative probability of the higher salary,\n",
    "# cumulative probability of the lower salary\n",
    "# get the difference, get the range between the two in terms of\n",
    "# percentage.\n",
    "high_sal, lower_sal = salary_dist.cdf([80_000, 65_000])\n",
    "salary_bracket = high_sal - lower_sal"
   ]
  },
  {
   "cell_type": "code",
   "execution_count": 80,
   "id": "c08eb59f-aa12-4d30-a35b-025597be77a3",
   "metadata": {},
   "outputs": [
    {
     "data": {
      "text/plain": [
       "0.34"
      ]
     },
     "execution_count": 80,
     "metadata": {},
     "output_type": "execute_result"
    }
   ],
   "source": [
    "round(salary_bracket, 2)"
   ]
  },
  {
   "cell_type": "markdown",
   "id": "488d1359-2a75-44fa-92f9-eca888db4f1d",
   "metadata": {},
   "source": [
    "What do the top 5% of employees make?"
   ]
  },
  {
   "cell_type": "code",
   "execution_count": 76,
   "id": "6add9b92-5324-4813-b4ad-9e53b616ca17",
   "metadata": {},
   "outputs": [
    {
     "data": {
      "text/plain": [
       "100484.64454102777"
      ]
     },
     "execution_count": 76,
     "metadata": {},
     "output_type": "execute_result"
    }
   ],
   "source": [
    "# top 5%?\n",
    "# 0.05 from the top,\n",
    "# have a prob, looking for a value:\n",
    "# inverse survival\n",
    "salary_dist.isf(0.05)"
   ]
  },
  {
   "cell_type": "code",
   "execution_count": 77,
   "id": "7b3fec24-f367-471c-8490-434ac0f84dff",
   "metadata": {},
   "outputs": [
    {
     "data": {
      "text/plain": [
       "100484.64454102775"
      ]
     },
     "execution_count": 77,
     "metadata": {},
     "output_type": "execute_result"
    }
   ],
   "source": [
    "salary_dist.ppf(0.95)"
   ]
  },
  {
   "cell_type": "code",
   "execution_count": null,
   "id": "5782ab85-2daf-4433-aa1d-6feb9227b680",
   "metadata": {},
   "outputs": [],
   "source": []
  }
 ],
 "metadata": {
  "kernelspec": {
   "display_name": "Python 3 (ipykernel)",
   "language": "python",
   "name": "python3"
  },
  "language_info": {
   "codemirror_mode": {
    "name": "ipython",
    "version": 3
   },
   "file_extension": ".py",
   "mimetype": "text/x-python",
   "name": "python",
   "nbconvert_exporter": "python",
   "pygments_lexer": "ipython3",
   "version": "3.11.5"
  }
 },
 "nbformat": 4,
 "nbformat_minor": 5
}
