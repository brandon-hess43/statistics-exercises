{
 "cells": [
  {
   "cell_type": "markdown",
   "id": "6a43322c-ef63-4bdb-8c4f-d254642ba6fe",
   "metadata": {},
   "source": [
    "## For each of the following questions, formulate a null and alternative hypothesis (be as specific as you can be), then give an example of what a true positive, true negative, type I and type II errors would look like. Note that some of the questions are intentionally phrased in a vague way. It is your job to reword these as more precise questions that could be tested."
   ]
  },
  {
   "cell_type": "markdown",
   "id": "ccd2456d-b1da-4a7b-8445-a380530bbc64",
   "metadata": {},
   "source": [
    "### Has the network latency gone up since we switched internet service providers?"
   ]
  },
  {
   "cell_type": "markdown",
   "id": "46e4b5a2-0e71-4c48-a8db-2388cee62ae9",
   "metadata": {},
   "source": [
    "- ave_lat change depending on service provider (boolean)\n",
    "\n",
    "- **H0**: there is no change in ave_latency with a change in service provider\n",
    "\n",
    "- **H1**: there is a change in ave_latency with a change in service provider\n",
    "\n",
    "- **True Positive**: Reject H0 when ave_latency went up with change in service provider\n",
    "\n",
    "- **True Negative**: Fail to reject H0 when ave_latency has not changed\n",
    "\n",
    "- **Type 1 Error (False Positive)**: We reject H0 when the change in service provider has not caused an increase in ave_latency\n",
    "\n",
    "- **Type 2 Error (False Negative)**: We fail to reject H0 when the change in service provider has caused an increase in ave_latency\n"
   ]
  },
  {
   "cell_type": "markdown",
   "id": "03b0095d-858f-435e-8c29-3aee617f55b7",
   "metadata": {},
   "source": [
    "### Is the website redesign any good?"
   ]
  },
  {
   "cell_type": "markdown",
   "id": "5a993eb7-071b-4e30-a608-1b41267dc3ed",
   "metadata": {},
   "source": [
    "- Did user_satisfaction (value) change with the website redesign (boolean)\n",
    "\n",
    "- **H0**: There is no change in user_satisfaction with a change in website redesign\n",
    "\n",
    "- **H1**: There is an increase in user_satisfaction with a change in website redesign\n",
    "\n",
    "- **True Positive**: Reject H0 when user_satisfaction changed with the website redesign\n",
    "\n",
    "- **True Negative**: Fail to reject H0 when there is no change in user_satisfaction with a change in website design\n",
    "\n",
    "- **Type 1 Error (False Positive)**: We reject H0 when a change in website redesign has not caused an increase in user_satisfaction\n",
    "\n",
    "- **Type 2 Error (False Negative)**: We fail to reject H0 when a change in website design has caused an increase in user_satisfaction\n"
   ]
  },
  {
   "cell_type": "markdown",
   "id": "35fde63d-196f-481d-b0fd-5cf4b93251c9",
   "metadata": {},
   "source": [
    "### Is our television ad driving more sales?"
   ]
  },
  {
   "cell_type": "markdown",
   "id": "4f0a0599-7116-4bb3-ae52-e58ac4fd4a4f",
   "metadata": {},
   "source": [
    "- Is there a positive change in sales since (value) since launching our television ad (boolean)\n",
    "\n",
    "- **H0**: There is no change in sales since launching our ad\n",
    "\n",
    "- **H1**: There is an increase in sales since launching our ad\n",
    "\n",
    "- **True Positive**: Reject H0 when there is a positive change in sales after launching our ad\n",
    "\n",
    "- **True Negative**: Fail to reject H0 when there is no positive change in sales after launching our ad\n",
    "\n",
    "- **Type 1 Error (False Positive)**: We reject H0 when our ad has caused a positive change in sales\n",
    "\n",
    "- **Type 2 Error (False Negative)**: We fail to reject H0 when our ad has not caused a positive change in sales\n"
   ]
  },
  {
   "cell_type": "markdown",
   "id": "db49e099-d4cb-4f1d-b0d2-346103c31c1c",
   "metadata": {},
   "source": [
    "## Run a hypothesis test"
   ]
  },
  {
   "cell_type": "markdown",
   "id": "e276ef64-addb-40e1-a35e-886485b703b3",
   "metadata": {},
   "source": [
    "1. Form hypothesis and set confidence interval \n",
    "    - $H_0$ is always that there is no association between the groups (they are independent)\n",
    "    - $H_a$ is that there is a association (they are not independent) between the groups\n",
    "2. Calculate appropriate test statistic and p-value\n",
    "    - Make a contigency table of counts\n",
    "    - Use stats.chi2_contingency\n",
    "3. Conclude based on above values"
   ]
  },
  {
   "cell_type": "markdown",
   "id": "15ec697d-7f3a-442d-a72b-fb6147ee0bc9",
   "metadata": {},
   "source": [
    "## Use the following contingency table to help answer the question of whether using a Macbook and being a Codeup student are independent of each other.\n",
    "\n",
    " \tCodeup Student\tNot Codeup Student\n",
    "Uses a Macbook\t49      \t20\n",
    "\n",
    "Doesn't Use A Macbook\t1       \t30"
   ]
  },
  {
   "cell_type": "code",
   "execution_count": 27,
   "id": "26f6f563-28fd-4f64-a2c7-eb91637cd1cc",
   "metadata": {
    "tags": []
   },
   "outputs": [],
   "source": [
    "import pandas as pd\n",
    "import numpy as np\n",
    "\n",
    "from pydataset import data\n",
    "\n",
    "from scipy import stats"
   ]
  },
  {
   "cell_type": "markdown",
   "id": "48a3ff58-bd5b-41af-b8de-e6027da520a6",
   "metadata": {
    "tags": []
   },
   "source": [
    "- $H_0$\n",
    "- $H_a$"
   ]
  },
  {
   "cell_type": "markdown",
   "id": "94154580-2835-4005-b0ca-c84e773381ed",
   "metadata": {},
   "source": [
    "### Hypothesis"
   ]
  },
  {
   "cell_type": "markdown",
   "id": "60217e1f-f4d2-411b-9c3d-f14a594d5205",
   "metadata": {},
   "source": [
    "- $H_0$: Whether or not someone is a codeup student does not affect whether or not they use a macbook\n",
    "- $H_a$: Whether or not someone is a codeup student does affect whether or not they use a macbook"
   ]
  },
  {
   "cell_type": "markdown",
   "id": "c16a8c02-c81e-4bac-8cfa-66a71cee5e6a",
   "metadata": {},
   "source": [
    "### Set our alpha"
   ]
  },
  {
   "cell_type": "code",
   "execution_count": 3,
   "id": "b6b9245b-988c-4a0c-97ac-c547265323ba",
   "metadata": {
    "tags": []
   },
   "outputs": [],
   "source": [
    "alpha = 0.05"
   ]
  },
  {
   "cell_type": "markdown",
   "id": "63763998-5ea4-4693-9cc2-ad4f02e0aa9c",
   "metadata": {
    "tags": []
   },
   "source": [
    "### 2. Calculate appropriate test statistic and p-value"
   ]
  },
  {
   "cell_type": "markdown",
   "id": "67cf24c5-f323-4bd0-9733-3bf64a4435fc",
   "metadata": {},
   "source": [
    "#### Make a contigency table of counts"
   ]
  },
  {
   "cell_type": "code",
   "execution_count": 19,
   "id": "51200791-5484-4935-b58a-00ed58580844",
   "metadata": {
    "tags": []
   },
   "outputs": [],
   "source": [
    "data = {'codeup_student':  [49, 1],\n",
    "        'not_codeup_student': [20, 30]\n",
    "        }\n",
    "\n",
    "df = pd.DataFrame(data)"
   ]
  },
  {
   "cell_type": "code",
   "execution_count": 20,
   "id": "7faa3e51-dc5e-49c2-bb73-6940d851abcd",
   "metadata": {
    "tags": []
   },
   "outputs": [],
   "source": [
    "df = pd.DataFrame(data, index=['Macbook', 'No_Macbook'])"
   ]
  },
  {
   "cell_type": "code",
   "execution_count": 21,
   "id": "d926b8da-46ab-4516-8155-9b787b96a9e9",
   "metadata": {
    "tags": []
   },
   "outputs": [
    {
     "data": {
      "text/html": [
       "<div>\n",
       "<style scoped>\n",
       "    .dataframe tbody tr th:only-of-type {\n",
       "        vertical-align: middle;\n",
       "    }\n",
       "\n",
       "    .dataframe tbody tr th {\n",
       "        vertical-align: top;\n",
       "    }\n",
       "\n",
       "    .dataframe thead th {\n",
       "        text-align: right;\n",
       "    }\n",
       "</style>\n",
       "<table border=\"1\" class=\"dataframe\">\n",
       "  <thead>\n",
       "    <tr style=\"text-align: right;\">\n",
       "      <th></th>\n",
       "      <th>codeup_student</th>\n",
       "      <th>not_codeup_student</th>\n",
       "    </tr>\n",
       "  </thead>\n",
       "  <tbody>\n",
       "    <tr>\n",
       "      <th>Macbook</th>\n",
       "      <td>49</td>\n",
       "      <td>20</td>\n",
       "    </tr>\n",
       "    <tr>\n",
       "      <th>No_Macbook</th>\n",
       "      <td>1</td>\n",
       "      <td>30</td>\n",
       "    </tr>\n",
       "  </tbody>\n",
       "</table>\n",
       "</div>"
      ],
      "text/plain": [
       "            codeup_student  not_codeup_student\n",
       "Macbook                 49                  20\n",
       "No_Macbook               1                  30"
      ]
     },
     "execution_count": 21,
     "metadata": {},
     "output_type": "execute_result"
    }
   ],
   "source": [
    "observed = df\n",
    "observed"
   ]
  },
  {
   "cell_type": "code",
   "execution_count": 22,
   "id": "f99ef69d-3104-43f0-9cfa-02c3876e73c5",
   "metadata": {
    "tags": []
   },
   "outputs": [
    {
     "data": {
      "text/plain": [
       "Chi2ContingencyResult(statistic=36.65264142122487, pvalue=1.4116760526193828e-09, dof=1, expected_freq=array([[34.5, 34.5],\n",
       "       [15.5, 15.5]]))"
      ]
     },
     "execution_count": 22,
     "metadata": {},
     "output_type": "execute_result"
    }
   ],
   "source": [
    "stats.chi2_contingency(observed)"
   ]
  },
  {
   "cell_type": "code",
   "execution_count": 23,
   "id": "470dbed3-f8a8-4982-833f-cf59c2c5cd40",
   "metadata": {
    "tags": []
   },
   "outputs": [],
   "source": [
    "chi2, p, dof, expected = stats.chi2_contingency(observed)"
   ]
  },
  {
   "cell_type": "code",
   "execution_count": 24,
   "id": "1ad89057-49ba-456c-8ea8-ae9f52e5d422",
   "metadata": {
    "tags": []
   },
   "outputs": [
    {
     "name": "stdout",
     "output_type": "stream",
     "text": [
      "Observed\n",
      "[[49 20]\n",
      " [ 1 30]]\n",
      "\n",
      "Expected\n",
      "[[34 34]\n",
      " [15 15]]\n",
      "\n",
      "----\n",
      "chi^2 = 36.6526\n",
      "p     = 0.0000\n"
     ]
    }
   ],
   "source": [
    "print('Observed')\n",
    "print(observed.values)\n",
    "print('\\nExpected')\n",
    "print(expected.astype(int))\n",
    "print('\\n----')\n",
    "print(f'chi^2 = {chi2:.4f}')\n",
    "print(f'p     = {p:.4f}')"
   ]
  },
  {
   "cell_type": "markdown",
   "id": "7a807b45-ca7f-4d36-8761-1ea51ed0728a",
   "metadata": {},
   "source": [
    "### 3. Conclude based on above values"
   ]
  },
  {
   "cell_type": "code",
   "execution_count": 25,
   "id": "bb8f2b82-c23b-4dcb-aea0-5e7ec95033e2",
   "metadata": {
    "tags": []
   },
   "outputs": [
    {
     "name": "stdout",
     "output_type": "stream",
     "text": [
      "reject the null hypothesis\n"
     ]
    }
   ],
   "source": [
    "if p < alpha:\n",
    "    print('reject the null hypothesis')\n",
    "else:\n",
    "    print('fail to reject the null hypothesis')"
   ]
  },
  {
   "cell_type": "markdown",
   "id": "55136bb2-93aa-4e77-92aa-4d70168a646c",
   "metadata": {},
   "source": [
    "#### There is a relationship between whether or not someone uses a macbook and whether or not they are a codeup student"
   ]
  },
  {
   "cell_type": "markdown",
   "id": "8d2a8fa8-097f-43a4-be52-a23b631d8df2",
   "metadata": {},
   "source": [
    "## Choose another 2 categorical variables from the mpg dataset.\n",
    "\n",
    "- State your null and alternative hypotheses.\n",
    "- State your alpha.\n",
    "- Perform a chi2 test of independence\n",
    "- State your conclusion"
   ]
  },
  {
   "cell_type": "code",
   "execution_count": 28,
   "id": "ab0555f1-cd5a-411f-8195-418105e47d3a",
   "metadata": {
    "tags": []
   },
   "outputs": [
    {
     "data": {
      "text/html": [
       "<div>\n",
       "<style scoped>\n",
       "    .dataframe tbody tr th:only-of-type {\n",
       "        vertical-align: middle;\n",
       "    }\n",
       "\n",
       "    .dataframe tbody tr th {\n",
       "        vertical-align: top;\n",
       "    }\n",
       "\n",
       "    .dataframe thead th {\n",
       "        text-align: right;\n",
       "    }\n",
       "</style>\n",
       "<table border=\"1\" class=\"dataframe\">\n",
       "  <thead>\n",
       "    <tr style=\"text-align: right;\">\n",
       "      <th></th>\n",
       "      <th>manufacturer</th>\n",
       "      <th>model</th>\n",
       "      <th>displ</th>\n",
       "      <th>year</th>\n",
       "      <th>cyl</th>\n",
       "      <th>trans</th>\n",
       "      <th>drv</th>\n",
       "      <th>cty</th>\n",
       "      <th>hwy</th>\n",
       "      <th>fl</th>\n",
       "      <th>class</th>\n",
       "    </tr>\n",
       "  </thead>\n",
       "  <tbody>\n",
       "    <tr>\n",
       "      <th>1</th>\n",
       "      <td>audi</td>\n",
       "      <td>a4</td>\n",
       "      <td>1.8</td>\n",
       "      <td>1999</td>\n",
       "      <td>4</td>\n",
       "      <td>auto(l5)</td>\n",
       "      <td>f</td>\n",
       "      <td>18</td>\n",
       "      <td>29</td>\n",
       "      <td>p</td>\n",
       "      <td>compact</td>\n",
       "    </tr>\n",
       "    <tr>\n",
       "      <th>2</th>\n",
       "      <td>audi</td>\n",
       "      <td>a4</td>\n",
       "      <td>1.8</td>\n",
       "      <td>1999</td>\n",
       "      <td>4</td>\n",
       "      <td>manual(m5)</td>\n",
       "      <td>f</td>\n",
       "      <td>21</td>\n",
       "      <td>29</td>\n",
       "      <td>p</td>\n",
       "      <td>compact</td>\n",
       "    </tr>\n",
       "    <tr>\n",
       "      <th>3</th>\n",
       "      <td>audi</td>\n",
       "      <td>a4</td>\n",
       "      <td>2.0</td>\n",
       "      <td>2008</td>\n",
       "      <td>4</td>\n",
       "      <td>manual(m6)</td>\n",
       "      <td>f</td>\n",
       "      <td>20</td>\n",
       "      <td>31</td>\n",
       "      <td>p</td>\n",
       "      <td>compact</td>\n",
       "    </tr>\n",
       "    <tr>\n",
       "      <th>4</th>\n",
       "      <td>audi</td>\n",
       "      <td>a4</td>\n",
       "      <td>2.0</td>\n",
       "      <td>2008</td>\n",
       "      <td>4</td>\n",
       "      <td>auto(av)</td>\n",
       "      <td>f</td>\n",
       "      <td>21</td>\n",
       "      <td>30</td>\n",
       "      <td>p</td>\n",
       "      <td>compact</td>\n",
       "    </tr>\n",
       "    <tr>\n",
       "      <th>5</th>\n",
       "      <td>audi</td>\n",
       "      <td>a4</td>\n",
       "      <td>2.8</td>\n",
       "      <td>1999</td>\n",
       "      <td>6</td>\n",
       "      <td>auto(l5)</td>\n",
       "      <td>f</td>\n",
       "      <td>16</td>\n",
       "      <td>26</td>\n",
       "      <td>p</td>\n",
       "      <td>compact</td>\n",
       "    </tr>\n",
       "  </tbody>\n",
       "</table>\n",
       "</div>"
      ],
      "text/plain": [
       "  manufacturer model  displ  year  cyl       trans drv  cty  hwy fl    class\n",
       "1         audi    a4    1.8  1999    4    auto(l5)   f   18   29  p  compact\n",
       "2         audi    a4    1.8  1999    4  manual(m5)   f   21   29  p  compact\n",
       "3         audi    a4    2.0  2008    4  manual(m6)   f   20   31  p  compact\n",
       "4         audi    a4    2.0  2008    4    auto(av)   f   21   30  p  compact\n",
       "5         audi    a4    2.8  1999    6    auto(l5)   f   16   26  p  compact"
      ]
     },
     "execution_count": 28,
     "metadata": {},
     "output_type": "execute_result"
    }
   ],
   "source": [
    "mpg_df = data('mpg')\n",
    "mpg_df.head()"
   ]
  },
  {
   "cell_type": "code",
   "execution_count": 29,
   "id": "a8a3ed65-5f3a-4a97-b838-67db36eb8e4f",
   "metadata": {
    "tags": []
   },
   "outputs": [
    {
     "name": "stdout",
     "output_type": "stream",
     "text": [
      "mpg\n",
      "\n",
      "PyDataset Documentation (adopted from R Documentation. The displayed examples are in R)\n",
      "\n",
      "## Fuel economy data from 1999 and 2008 for 38 popular models of car\n",
      "\n",
      "### Description\n",
      "\n",
      "This dataset contains a subset of the fuel economy data that the EPA makes\n",
      "available on http://fueleconomy.gov. It contains only models which had a new\n",
      "release every year between 1999 and 2008 - this was used as a proxy for the\n",
      "popularity of the car.\n",
      "\n",
      "### Usage\n",
      "\n",
      "    data(mpg)\n",
      "\n",
      "### Format\n",
      "\n",
      "A data frame with 234 rows and 11 variables\n",
      "\n",
      "### Details\n",
      "\n",
      "  * manufacturer. \n",
      "\n",
      "  * model. \n",
      "\n",
      "  * displ. engine displacement, in litres \n",
      "\n",
      "  * year. \n",
      "\n",
      "  * cyl. number of cylinders \n",
      "\n",
      "  * trans. type of transmission \n",
      "\n",
      "  * drv. f = front-wheel drive, r = rear wheel drive, 4 = 4wd \n",
      "\n",
      "  * cty. city miles per gallon \n",
      "\n",
      "  * hwy. highway miles per gallon \n",
      "\n",
      "  * fl. \n",
      "\n",
      "  * class. \n",
      "\n",
      "\n"
     ]
    }
   ],
   "source": [
    "data('mpg', show_doc=True)"
   ]
  },
  {
   "cell_type": "code",
   "execution_count": 30,
   "id": "34df611b-5005-4fcb-ad7c-277765fe09be",
   "metadata": {
    "tags": []
   },
   "outputs": [
    {
     "data": {
      "text/html": [
       "<div>\n",
       "<style scoped>\n",
       "    .dataframe tbody tr th:only-of-type {\n",
       "        vertical-align: middle;\n",
       "    }\n",
       "\n",
       "    .dataframe tbody tr th {\n",
       "        vertical-align: top;\n",
       "    }\n",
       "\n",
       "    .dataframe thead th {\n",
       "        text-align: right;\n",
       "    }\n",
       "</style>\n",
       "<table border=\"1\" class=\"dataframe\">\n",
       "  <thead>\n",
       "    <tr style=\"text-align: right;\">\n",
       "      <th></th>\n",
       "      <th>displ</th>\n",
       "      <th>year</th>\n",
       "      <th>cyl</th>\n",
       "      <th>cty</th>\n",
       "      <th>hwy</th>\n",
       "    </tr>\n",
       "  </thead>\n",
       "  <tbody>\n",
       "    <tr>\n",
       "      <th>count</th>\n",
       "      <td>234.000000</td>\n",
       "      <td>234.000000</td>\n",
       "      <td>234.000000</td>\n",
       "      <td>234.000000</td>\n",
       "      <td>234.000000</td>\n",
       "    </tr>\n",
       "    <tr>\n",
       "      <th>mean</th>\n",
       "      <td>3.471795</td>\n",
       "      <td>2003.500000</td>\n",
       "      <td>5.888889</td>\n",
       "      <td>16.858974</td>\n",
       "      <td>23.440171</td>\n",
       "    </tr>\n",
       "    <tr>\n",
       "      <th>std</th>\n",
       "      <td>1.291959</td>\n",
       "      <td>4.509646</td>\n",
       "      <td>1.611534</td>\n",
       "      <td>4.255946</td>\n",
       "      <td>5.954643</td>\n",
       "    </tr>\n",
       "    <tr>\n",
       "      <th>min</th>\n",
       "      <td>1.600000</td>\n",
       "      <td>1999.000000</td>\n",
       "      <td>4.000000</td>\n",
       "      <td>9.000000</td>\n",
       "      <td>12.000000</td>\n",
       "    </tr>\n",
       "    <tr>\n",
       "      <th>25%</th>\n",
       "      <td>2.400000</td>\n",
       "      <td>1999.000000</td>\n",
       "      <td>4.000000</td>\n",
       "      <td>14.000000</td>\n",
       "      <td>18.000000</td>\n",
       "    </tr>\n",
       "    <tr>\n",
       "      <th>50%</th>\n",
       "      <td>3.300000</td>\n",
       "      <td>2003.500000</td>\n",
       "      <td>6.000000</td>\n",
       "      <td>17.000000</td>\n",
       "      <td>24.000000</td>\n",
       "    </tr>\n",
       "    <tr>\n",
       "      <th>75%</th>\n",
       "      <td>4.600000</td>\n",
       "      <td>2008.000000</td>\n",
       "      <td>8.000000</td>\n",
       "      <td>19.000000</td>\n",
       "      <td>27.000000</td>\n",
       "    </tr>\n",
       "    <tr>\n",
       "      <th>max</th>\n",
       "      <td>7.000000</td>\n",
       "      <td>2008.000000</td>\n",
       "      <td>8.000000</td>\n",
       "      <td>35.000000</td>\n",
       "      <td>44.000000</td>\n",
       "    </tr>\n",
       "  </tbody>\n",
       "</table>\n",
       "</div>"
      ],
      "text/plain": [
       "            displ         year         cyl         cty         hwy\n",
       "count  234.000000   234.000000  234.000000  234.000000  234.000000\n",
       "mean     3.471795  2003.500000    5.888889   16.858974   23.440171\n",
       "std      1.291959     4.509646    1.611534    4.255946    5.954643\n",
       "min      1.600000  1999.000000    4.000000    9.000000   12.000000\n",
       "25%      2.400000  1999.000000    4.000000   14.000000   18.000000\n",
       "50%      3.300000  2003.500000    6.000000   17.000000   24.000000\n",
       "75%      4.600000  2008.000000    8.000000   19.000000   27.000000\n",
       "max      7.000000  2008.000000    8.000000   35.000000   44.000000"
      ]
     },
     "execution_count": 30,
     "metadata": {},
     "output_type": "execute_result"
    }
   ],
   "source": [
    "mpg_df.describe()"
   ]
  },
  {
   "cell_type": "code",
   "execution_count": 32,
   "id": "f5ebd0ab-05be-4f16-b1bf-cbe75900317a",
   "metadata": {
    "tags": []
   },
   "outputs": [
    {
     "name": "stdout",
     "output_type": "stream",
     "text": [
      "<class 'pandas.core.frame.DataFrame'>\n",
      "Index: 234 entries, 1 to 234\n",
      "Data columns (total 11 columns):\n",
      " #   Column        Non-Null Count  Dtype  \n",
      "---  ------        --------------  -----  \n",
      " 0   manufacturer  234 non-null    object \n",
      " 1   model         234 non-null    object \n",
      " 2   displ         234 non-null    float64\n",
      " 3   year          234 non-null    int64  \n",
      " 4   cyl           234 non-null    int64  \n",
      " 5   trans         234 non-null    object \n",
      " 6   drv           234 non-null    object \n",
      " 7   cty           234 non-null    int64  \n",
      " 8   hwy           234 non-null    int64  \n",
      " 9   fl            234 non-null    object \n",
      " 10  class         234 non-null    object \n",
      "dtypes: float64(1), int64(4), object(6)\n",
      "memory usage: 21.9+ KB\n"
     ]
    }
   ],
   "source": [
    "mpg_df.info()"
   ]
  },
  {
   "cell_type": "code",
   "execution_count": 33,
   "id": "025dbfa1-f994-4a14-9161-e6b86e293a8d",
   "metadata": {
    "tags": []
   },
   "outputs": [
    {
     "data": {
      "text/plain": [
       "year\n",
       "1999    117\n",
       "2008    117\n",
       "Name: count, dtype: int64"
      ]
     },
     "execution_count": 33,
     "metadata": {},
     "output_type": "execute_result"
    }
   ],
   "source": [
    "mpg_df.year.value_counts()"
   ]
  },
  {
   "cell_type": "code",
   "execution_count": 34,
   "id": "afe3c7f6-5dee-4a87-b5a0-11ad71b7ee63",
   "metadata": {
    "tags": []
   },
   "outputs": [
    {
     "data": {
      "text/plain": [
       "trans\n",
       "auto(l4)      83\n",
       "manual(m5)    58\n",
       "auto(l5)      39\n",
       "manual(m6)    19\n",
       "auto(s6)      16\n",
       "auto(l6)       6\n",
       "auto(av)       5\n",
       "auto(s5)       3\n",
       "auto(s4)       3\n",
       "auto(l3)       2\n",
       "Name: count, dtype: int64"
      ]
     },
     "execution_count": 34,
     "metadata": {},
     "output_type": "execute_result"
    }
   ],
   "source": [
    "mpg_df.trans.value_counts()"
   ]
  },
  {
   "cell_type": "code",
   "execution_count": 36,
   "id": "4688784f-67b9-4599-b2db-ddd0c0feb32a",
   "metadata": {
    "tags": []
   },
   "outputs": [
    {
     "data": {
      "text/plain": [
       "manufacturer\n",
       "dodge         37\n",
       "toyota        34\n",
       "volkswagen    27\n",
       "ford          25\n",
       "chevrolet     19\n",
       "audi          18\n",
       "hyundai       14\n",
       "subaru        14\n",
       "nissan        13\n",
       "honda          9\n",
       "jeep           8\n",
       "pontiac        5\n",
       "land rover     4\n",
       "mercury        4\n",
       "lincoln        3\n",
       "Name: count, dtype: int64"
      ]
     },
     "execution_count": 36,
     "metadata": {},
     "output_type": "execute_result"
    }
   ],
   "source": [
    "mpg_df.manufacturer.value_counts()"
   ]
  },
  {
   "cell_type": "markdown",
   "id": "92e8f60a-6e10-40a3-a9b7-583727bfaf18",
   "metadata": {},
   "source": [
    "- $H_0$: There is no relationship between year manufactured and transmission\n",
    "- $H_a$:There is a relationship between year manufactured and transmission"
   ]
  },
  {
   "cell_type": "code",
   "execution_count": 37,
   "id": "ddcdef22-f9c4-45ea-908e-70f39144286c",
   "metadata": {
    "tags": []
   },
   "outputs": [],
   "source": [
    "alpha = 0.05"
   ]
  },
  {
   "cell_type": "code",
   "execution_count": 39,
   "id": "dffd4967-c234-42c7-a1ef-d74252a31273",
   "metadata": {
    "tags": []
   },
   "outputs": [
    {
     "data": {
      "text/html": [
       "<div>\n",
       "<style scoped>\n",
       "    .dataframe tbody tr th:only-of-type {\n",
       "        vertical-align: middle;\n",
       "    }\n",
       "\n",
       "    .dataframe tbody tr th {\n",
       "        vertical-align: top;\n",
       "    }\n",
       "\n",
       "    .dataframe thead th {\n",
       "        text-align: right;\n",
       "    }\n",
       "</style>\n",
       "<table border=\"1\" class=\"dataframe\">\n",
       "  <thead>\n",
       "    <tr style=\"text-align: right;\">\n",
       "      <th>year</th>\n",
       "      <th>1999</th>\n",
       "      <th>2008</th>\n",
       "    </tr>\n",
       "    <tr>\n",
       "      <th>trans</th>\n",
       "      <th></th>\n",
       "      <th></th>\n",
       "    </tr>\n",
       "  </thead>\n",
       "  <tbody>\n",
       "    <tr>\n",
       "      <th>auto(av)</th>\n",
       "      <td>0</td>\n",
       "      <td>5</td>\n",
       "    </tr>\n",
       "    <tr>\n",
       "      <th>auto(l3)</th>\n",
       "      <td>2</td>\n",
       "      <td>0</td>\n",
       "    </tr>\n",
       "    <tr>\n",
       "      <th>auto(l4)</th>\n",
       "      <td>62</td>\n",
       "      <td>21</td>\n",
       "    </tr>\n",
       "    <tr>\n",
       "      <th>auto(l5)</th>\n",
       "      <td>10</td>\n",
       "      <td>29</td>\n",
       "    </tr>\n",
       "    <tr>\n",
       "      <th>auto(l6)</th>\n",
       "      <td>0</td>\n",
       "      <td>6</td>\n",
       "    </tr>\n",
       "    <tr>\n",
       "      <th>auto(s4)</th>\n",
       "      <td>0</td>\n",
       "      <td>3</td>\n",
       "    </tr>\n",
       "    <tr>\n",
       "      <th>auto(s5)</th>\n",
       "      <td>0</td>\n",
       "      <td>3</td>\n",
       "    </tr>\n",
       "    <tr>\n",
       "      <th>auto(s6)</th>\n",
       "      <td>0</td>\n",
       "      <td>16</td>\n",
       "    </tr>\n",
       "    <tr>\n",
       "      <th>manual(m5)</th>\n",
       "      <td>42</td>\n",
       "      <td>16</td>\n",
       "    </tr>\n",
       "    <tr>\n",
       "      <th>manual(m6)</th>\n",
       "      <td>1</td>\n",
       "      <td>18</td>\n",
       "    </tr>\n",
       "  </tbody>\n",
       "</table>\n",
       "</div>"
      ],
      "text/plain": [
       "year        1999  2008\n",
       "trans                 \n",
       "auto(av)       0     5\n",
       "auto(l3)       2     0\n",
       "auto(l4)      62    21\n",
       "auto(l5)      10    29\n",
       "auto(l6)       0     6\n",
       "auto(s4)       0     3\n",
       "auto(s5)       0     3\n",
       "auto(s6)       0    16\n",
       "manual(m5)    42    16\n",
       "manual(m6)     1    18"
      ]
     },
     "execution_count": 39,
     "metadata": {},
     "output_type": "execute_result"
    }
   ],
   "source": [
    "observed = pd.crosstab(mpg_df.trans,mpg_df.year) \n",
    "observed"
   ]
  },
  {
   "cell_type": "code",
   "execution_count": 40,
   "id": "51f2a82a-ad56-4cdb-8b41-7ec984b67257",
   "metadata": {
    "tags": []
   },
   "outputs": [
    {
     "data": {
      "text/plain": [
       "Chi2ContingencyResult(statistic=91.37512103418561, pvalue=8.621724230835161e-16, dof=9, expected_freq=array([[ 2.5,  2.5],\n",
       "       [ 1. ,  1. ],\n",
       "       [41.5, 41.5],\n",
       "       [19.5, 19.5],\n",
       "       [ 3. ,  3. ],\n",
       "       [ 1.5,  1.5],\n",
       "       [ 1.5,  1.5],\n",
       "       [ 8. ,  8. ],\n",
       "       [29. , 29. ],\n",
       "       [ 9.5,  9.5]]))"
      ]
     },
     "execution_count": 40,
     "metadata": {},
     "output_type": "execute_result"
    }
   ],
   "source": [
    "stats.chi2_contingency(observed)"
   ]
  },
  {
   "cell_type": "code",
   "execution_count": 41,
   "id": "ffe9865a-9dd3-4893-9f51-eccfa49b44e8",
   "metadata": {
    "tags": []
   },
   "outputs": [],
   "source": [
    "chi2, p, dof, expected = stats.chi2_contingency(observed)"
   ]
  },
  {
   "cell_type": "code",
   "execution_count": 42,
   "id": "3abe4c84-6314-4d9e-8cdd-08084b3e979d",
   "metadata": {
    "tags": []
   },
   "outputs": [
    {
     "name": "stdout",
     "output_type": "stream",
     "text": [
      "Observed\n",
      "[[ 0  5]\n",
      " [ 2  0]\n",
      " [62 21]\n",
      " [10 29]\n",
      " [ 0  6]\n",
      " [ 0  3]\n",
      " [ 0  3]\n",
      " [ 0 16]\n",
      " [42 16]\n",
      " [ 1 18]]\n",
      "\n",
      "Expected\n",
      "[[ 2  2]\n",
      " [ 1  1]\n",
      " [41 41]\n",
      " [19 19]\n",
      " [ 3  3]\n",
      " [ 1  1]\n",
      " [ 1  1]\n",
      " [ 8  8]\n",
      " [29 29]\n",
      " [ 9  9]]\n",
      "\n",
      "----\n",
      "chi^2 = 91.3751\n",
      "p     = 0.0000\n"
     ]
    }
   ],
   "source": [
    "print('Observed')\n",
    "print(observed.values)\n",
    "print('\\nExpected')\n",
    "print(expected.astype(int))\n",
    "print('\\n----')\n",
    "print(f'chi^2 = {chi2:.4f}')\n",
    "print(f'p     = {p:.4f}')"
   ]
  },
  {
   "cell_type": "markdown",
   "id": "2d619776-5768-4c2c-a416-54966aeb5a78",
   "metadata": {},
   "source": [
    "#### 3. Conclude based on above values"
   ]
  },
  {
   "cell_type": "code",
   "execution_count": 43,
   "id": "104594f6-cb33-452d-ba52-8f79dede7dc8",
   "metadata": {
    "tags": []
   },
   "outputs": [
    {
     "name": "stdout",
     "output_type": "stream",
     "text": [
      "reject the null hypothesis\n"
     ]
    }
   ],
   "source": [
    "if p < alpha:\n",
    "    print('reject the null hypothesis')\n",
    "else:\n",
    "    print('fail to reject the null hypothesis')"
   ]
  },
  {
   "cell_type": "markdown",
   "id": "5ae98990-c877-42d2-8747-f82c5d959e63",
   "metadata": {},
   "source": [
    "#### There is a relationship between the year manufactured and the transmission type"
   ]
  },
  {
   "cell_type": "markdown",
   "id": "8ba4d9ca-050d-44ab-99e4-e9dfb536dd53",
   "metadata": {},
   "source": [
    "## Use the data from the employees database to answer these questions:\n",
    "\n",
    "- Is an employee's gender independent of whether an employee works in sales or marketing? (only look at current employees)\n",
    "- Is an employee's gender independent of whether or not they are or have been a manager?"
   ]
  },
  {
   "cell_type": "code",
   "execution_count": 44,
   "id": "bef50361-53c3-4567-b5f6-73809460cb42",
   "metadata": {
    "tags": []
   },
   "outputs": [],
   "source": [
    "from env import host, user, password\n",
    "\n",
    "url = f'mysql+pymysql://{user}:{password}@{host}/employees'"
   ]
  },
  {
   "cell_type": "code",
   "execution_count": 51,
   "id": "f4de26e4-cd6c-46f5-b838-fa3529805eb2",
   "metadata": {
    "tags": []
   },
   "outputs": [
    {
     "data": {
      "text/html": [
       "<div>\n",
       "<style scoped>\n",
       "    .dataframe tbody tr th:only-of-type {\n",
       "        vertical-align: middle;\n",
       "    }\n",
       "\n",
       "    .dataframe tbody tr th {\n",
       "        vertical-align: top;\n",
       "    }\n",
       "\n",
       "    .dataframe thead th {\n",
       "        text-align: right;\n",
       "    }\n",
       "</style>\n",
       "<table border=\"1\" class=\"dataframe\">\n",
       "  <thead>\n",
       "    <tr style=\"text-align: right;\">\n",
       "      <th></th>\n",
       "      <th>dept_no</th>\n",
       "      <th>gender</th>\n",
       "    </tr>\n",
       "  </thead>\n",
       "  <tbody>\n",
       "    <tr>\n",
       "      <th>0</th>\n",
       "      <td>d007</td>\n",
       "      <td>F</td>\n",
       "    </tr>\n",
       "    <tr>\n",
       "      <th>1</th>\n",
       "      <td>d007</td>\n",
       "      <td>M</td>\n",
       "    </tr>\n",
       "    <tr>\n",
       "      <th>2</th>\n",
       "      <td>d001</td>\n",
       "      <td>F</td>\n",
       "    </tr>\n",
       "    <tr>\n",
       "      <th>3</th>\n",
       "      <td>d007</td>\n",
       "      <td>F</td>\n",
       "    </tr>\n",
       "    <tr>\n",
       "      <th>4</th>\n",
       "      <td>d007</td>\n",
       "      <td>M</td>\n",
       "    </tr>\n",
       "    <tr>\n",
       "      <th>...</th>\n",
       "      <td>...</td>\n",
       "      <td>...</td>\n",
       "    </tr>\n",
       "    <tr>\n",
       "      <th>52538</th>\n",
       "      <td>d007</td>\n",
       "      <td>M</td>\n",
       "    </tr>\n",
       "    <tr>\n",
       "      <th>52539</th>\n",
       "      <td>d007</td>\n",
       "      <td>M</td>\n",
       "    </tr>\n",
       "    <tr>\n",
       "      <th>52540</th>\n",
       "      <td>d007</td>\n",
       "      <td>F</td>\n",
       "    </tr>\n",
       "    <tr>\n",
       "      <th>52541</th>\n",
       "      <td>d007</td>\n",
       "      <td>F</td>\n",
       "    </tr>\n",
       "    <tr>\n",
       "      <th>52542</th>\n",
       "      <td>d001</td>\n",
       "      <td>F</td>\n",
       "    </tr>\n",
       "  </tbody>\n",
       "</table>\n",
       "<p>52543 rows × 2 columns</p>\n",
       "</div>"
      ],
      "text/plain": [
       "      dept_no gender\n",
       "0        d007      F\n",
       "1        d007      M\n",
       "2        d001      F\n",
       "3        d007      F\n",
       "4        d007      M\n",
       "...       ...    ...\n",
       "52538    d007      M\n",
       "52539    d007      M\n",
       "52540    d007      F\n",
       "52541    d007      F\n",
       "52542    d001      F\n",
       "\n",
       "[52543 rows x 2 columns]"
      ]
     },
     "execution_count": 51,
     "metadata": {},
     "output_type": "execute_result"
    }
   ],
   "source": [
    "query = '''select dept_no, gender\n",
    "FROM employees\n",
    "join dept_emp\n",
    "using (emp_no)\n",
    "WHERE dept_emp.to_date > now() and dept_emp.dept_no IN ('d007','d001')\n",
    ";\n",
    "'''\n",
    "\n",
    "emp_df = pd.read_sql(query, url)\n",
    "emp_df"
   ]
  },
  {
   "cell_type": "markdown",
   "id": "371f0e67-2575-4d43-8939-bdbba165163f",
   "metadata": {
    "tags": []
   },
   "source": [
    "- $H_0$: An employees gender does not affect whether an employee works in sales or marketing\n",
    "- $H_a$: An employees gender affects whether an employee works in sales or marketing"
   ]
  },
  {
   "cell_type": "code",
   "execution_count": 50,
   "id": "96219128-bd56-4bb6-9b8a-45fe5da39475",
   "metadata": {
    "tags": []
   },
   "outputs": [],
   "source": [
    "alpha = 0.05"
   ]
  },
  {
   "cell_type": "code",
   "execution_count": 52,
   "id": "9d878d74-81d2-47dd-9650-a9c70c22578b",
   "metadata": {
    "tags": []
   },
   "outputs": [
    {
     "data": {
      "text/plain": [
       "dept_no\n",
       "d007    37701\n",
       "d001    14842\n",
       "Name: count, dtype: int64"
      ]
     },
     "execution_count": 52,
     "metadata": {},
     "output_type": "execute_result"
    }
   ],
   "source": [
    "emp_df.dept_no.value_counts()"
   ]
  },
  {
   "cell_type": "code",
   "execution_count": 53,
   "id": "b211aaa7-7df3-4d49-b929-062c4aebdfa0",
   "metadata": {
    "tags": []
   },
   "outputs": [
    {
     "data": {
      "text/plain": [
       "gender\n",
       "M    31680\n",
       "F    20863\n",
       "Name: count, dtype: int64"
      ]
     },
     "execution_count": 53,
     "metadata": {},
     "output_type": "execute_result"
    }
   ],
   "source": [
    "emp_df.gender.value_counts()"
   ]
  },
  {
   "cell_type": "code",
   "execution_count": 54,
   "id": "c2cf8548-4c2a-4981-8a89-e1b5d2433d99",
   "metadata": {
    "tags": []
   },
   "outputs": [
    {
     "data": {
      "text/html": [
       "<div>\n",
       "<style scoped>\n",
       "    .dataframe tbody tr th:only-of-type {\n",
       "        vertical-align: middle;\n",
       "    }\n",
       "\n",
       "    .dataframe tbody tr th {\n",
       "        vertical-align: top;\n",
       "    }\n",
       "\n",
       "    .dataframe thead th {\n",
       "        text-align: right;\n",
       "    }\n",
       "</style>\n",
       "<table border=\"1\" class=\"dataframe\">\n",
       "  <thead>\n",
       "    <tr style=\"text-align: right;\">\n",
       "      <th>gender</th>\n",
       "      <th>F</th>\n",
       "      <th>M</th>\n",
       "    </tr>\n",
       "    <tr>\n",
       "      <th>dept_no</th>\n",
       "      <th></th>\n",
       "      <th></th>\n",
       "    </tr>\n",
       "  </thead>\n",
       "  <tbody>\n",
       "    <tr>\n",
       "      <th>d001</th>\n",
       "      <td>5864</td>\n",
       "      <td>8978</td>\n",
       "    </tr>\n",
       "    <tr>\n",
       "      <th>d007</th>\n",
       "      <td>14999</td>\n",
       "      <td>22702</td>\n",
       "    </tr>\n",
       "  </tbody>\n",
       "</table>\n",
       "</div>"
      ],
      "text/plain": [
       "gender       F      M\n",
       "dept_no              \n",
       "d001      5864   8978\n",
       "d007     14999  22702"
      ]
     },
     "execution_count": 54,
     "metadata": {},
     "output_type": "execute_result"
    }
   ],
   "source": [
    "observed_emp = pd.crosstab(emp_df.dept_no, emp_df.gender)\n",
    "observed_emp"
   ]
  },
  {
   "cell_type": "code",
   "execution_count": 55,
   "id": "5e98203c-d613-4076-81c1-e852eda2522a",
   "metadata": {
    "tags": []
   },
   "outputs": [
    {
     "data": {
      "text/plain": [
       "Chi2ContingencyResult(statistic=0.3240332004060638, pvalue=0.5691938610810126, dof=1, expected_freq=array([[ 5893.2426013,  8948.7573987],\n",
       "       [14969.7573987, 22731.2426013]]))"
      ]
     },
     "execution_count": 55,
     "metadata": {},
     "output_type": "execute_result"
    }
   ],
   "source": [
    "stats.chi2_contingency(observed_emp)"
   ]
  },
  {
   "cell_type": "code",
   "execution_count": 56,
   "id": "0f42e143-c4af-4b36-a875-e290e4cba009",
   "metadata": {
    "tags": []
   },
   "outputs": [],
   "source": [
    "chi2, p, dof, expected = stats.chi2_contingency(observed_emp)"
   ]
  },
  {
   "cell_type": "code",
   "execution_count": 57,
   "id": "940432f6-1035-4ac5-a777-7969f26bcc30",
   "metadata": {
    "tags": []
   },
   "outputs": [
    {
     "name": "stdout",
     "output_type": "stream",
     "text": [
      "Observed\n",
      "[[ 0  5]\n",
      " [ 2  0]\n",
      " [62 21]\n",
      " [10 29]\n",
      " [ 0  6]\n",
      " [ 0  3]\n",
      " [ 0  3]\n",
      " [ 0 16]\n",
      " [42 16]\n",
      " [ 1 18]]\n",
      "\n",
      "Expected\n",
      "[[ 5893  8948]\n",
      " [14969 22731]]\n",
      "\n",
      "----\n",
      "chi^2 = 0.3240\n",
      "p     = 0.5692\n"
     ]
    }
   ],
   "source": [
    "print('Observed')\n",
    "print(observed.values)\n",
    "print('\\nExpected')\n",
    "print(expected.astype(int))\n",
    "print('\\n----')\n",
    "print(f'chi^2 = {chi2:.4f}')\n",
    "print(f'p     = {p:.4f}')"
   ]
  },
  {
   "cell_type": "code",
   "execution_count": 58,
   "id": "f69d4419-b416-4d7f-8bd1-47b614945a93",
   "metadata": {
    "tags": []
   },
   "outputs": [
    {
     "name": "stdout",
     "output_type": "stream",
     "text": [
      "fail to reject the null hypothesis\n"
     ]
    }
   ],
   "source": [
    "if p < alpha:\n",
    "    print('reject the null hypothesis')\n",
    "else:\n",
    "    print('fail to reject the null hypothesis')"
   ]
  },
  {
   "cell_type": "markdown",
   "id": "ac36db09-adbc-4326-8836-78b21fab1748",
   "metadata": {},
   "source": [
    "#### There is not a relationship between gender and whether or not they work in sales or marketing"
   ]
  },
  {
   "cell_type": "code",
   "execution_count": 60,
   "id": "f654e27a-d986-4a3f-b2fc-b24d7e19ad76",
   "metadata": {
    "tags": []
   },
   "outputs": [
    {
     "data": {
      "text/html": [
       "<div>\n",
       "<style scoped>\n",
       "    .dataframe tbody tr th:only-of-type {\n",
       "        vertical-align: middle;\n",
       "    }\n",
       "\n",
       "    .dataframe tbody tr th {\n",
       "        vertical-align: top;\n",
       "    }\n",
       "\n",
       "    .dataframe thead th {\n",
       "        text-align: right;\n",
       "    }\n",
       "</style>\n",
       "<table border=\"1\" class=\"dataframe\">\n",
       "  <thead>\n",
       "    <tr style=\"text-align: right;\">\n",
       "      <th></th>\n",
       "      <th>emp</th>\n",
       "      <th>manager</th>\n",
       "      <th>gender</th>\n",
       "    </tr>\n",
       "  </thead>\n",
       "  <tbody>\n",
       "    <tr>\n",
       "      <th>0</th>\n",
       "      <td>10001</td>\n",
       "      <td>NaN</td>\n",
       "      <td>M</td>\n",
       "    </tr>\n",
       "    <tr>\n",
       "      <th>1</th>\n",
       "      <td>10002</td>\n",
       "      <td>NaN</td>\n",
       "      <td>F</td>\n",
       "    </tr>\n",
       "    <tr>\n",
       "      <th>2</th>\n",
       "      <td>10003</td>\n",
       "      <td>NaN</td>\n",
       "      <td>M</td>\n",
       "    </tr>\n",
       "    <tr>\n",
       "      <th>3</th>\n",
       "      <td>10004</td>\n",
       "      <td>NaN</td>\n",
       "      <td>M</td>\n",
       "    </tr>\n",
       "    <tr>\n",
       "      <th>4</th>\n",
       "      <td>10005</td>\n",
       "      <td>NaN</td>\n",
       "      <td>M</td>\n",
       "    </tr>\n",
       "    <tr>\n",
       "      <th>...</th>\n",
       "      <td>...</td>\n",
       "      <td>...</td>\n",
       "      <td>...</td>\n",
       "    </tr>\n",
       "    <tr>\n",
       "      <th>300019</th>\n",
       "      <td>499995</td>\n",
       "      <td>NaN</td>\n",
       "      <td>F</td>\n",
       "    </tr>\n",
       "    <tr>\n",
       "      <th>300020</th>\n",
       "      <td>499996</td>\n",
       "      <td>NaN</td>\n",
       "      <td>M</td>\n",
       "    </tr>\n",
       "    <tr>\n",
       "      <th>300021</th>\n",
       "      <td>499997</td>\n",
       "      <td>NaN</td>\n",
       "      <td>M</td>\n",
       "    </tr>\n",
       "    <tr>\n",
       "      <th>300022</th>\n",
       "      <td>499998</td>\n",
       "      <td>NaN</td>\n",
       "      <td>M</td>\n",
       "    </tr>\n",
       "    <tr>\n",
       "      <th>300023</th>\n",
       "      <td>499999</td>\n",
       "      <td>NaN</td>\n",
       "      <td>M</td>\n",
       "    </tr>\n",
       "  </tbody>\n",
       "</table>\n",
       "<p>300024 rows × 3 columns</p>\n",
       "</div>"
      ],
      "text/plain": [
       "           emp  manager gender\n",
       "0        10001      NaN      M\n",
       "1        10002      NaN      F\n",
       "2        10003      NaN      M\n",
       "3        10004      NaN      M\n",
       "4        10005      NaN      M\n",
       "...        ...      ...    ...\n",
       "300019  499995      NaN      F\n",
       "300020  499996      NaN      M\n",
       "300021  499997      NaN      M\n",
       "300022  499998      NaN      M\n",
       "300023  499999      NaN      M\n",
       "\n",
       "[300024 rows x 3 columns]"
      ]
     },
     "execution_count": 60,
     "metadata": {},
     "output_type": "execute_result"
    }
   ],
   "source": [
    "query = '''select employees.emp_no as emp, dept_manager.emp_no as manager, gender\n",
    "FROM employees\n",
    "left join dept_manager\n",
    "using (emp_no)\n",
    ";\n",
    "'''\n",
    "\n",
    "emp_df2 = pd.read_sql(query, url)\n",
    "emp_df2"
   ]
  },
  {
   "cell_type": "code",
   "execution_count": 63,
   "id": "cb0ae533-2ea4-4890-9f3a-073177e9f59d",
   "metadata": {
    "tags": []
   },
   "outputs": [
    {
     "data": {
      "text/plain": [
       "emp\n",
       "10001     1\n",
       "299980    1\n",
       "299996    1\n",
       "299995    1\n",
       "299994    1\n",
       "         ..\n",
       "110344    1\n",
       "110303    1\n",
       "110228    1\n",
       "110183    1\n",
       "499999    1\n",
       "Name: count, Length: 300024, dtype: int64"
      ]
     },
     "execution_count": 63,
     "metadata": {},
     "output_type": "execute_result"
    }
   ],
   "source": [
    "emp_df2.emp.value_counts()"
   ]
  },
  {
   "cell_type": "code",
   "execution_count": 71,
   "id": "57f1ebb5-aa05-4f0e-81d5-d2fd22ad9c33",
   "metadata": {
    "tags": []
   },
   "outputs": [
    {
     "data": {
      "text/html": [
       "<div>\n",
       "<style scoped>\n",
       "    .dataframe tbody tr th:only-of-type {\n",
       "        vertical-align: middle;\n",
       "    }\n",
       "\n",
       "    .dataframe tbody tr th {\n",
       "        vertical-align: top;\n",
       "    }\n",
       "\n",
       "    .dataframe thead th {\n",
       "        text-align: right;\n",
       "    }\n",
       "</style>\n",
       "<table border=\"1\" class=\"dataframe\">\n",
       "  <thead>\n",
       "    <tr style=\"text-align: right;\">\n",
       "      <th>is_manager</th>\n",
       "      <th>No</th>\n",
       "      <th>Yes</th>\n",
       "    </tr>\n",
       "    <tr>\n",
       "      <th>gender</th>\n",
       "      <th></th>\n",
       "      <th></th>\n",
       "    </tr>\n",
       "  </thead>\n",
       "  <tbody>\n",
       "    <tr>\n",
       "      <th>F</th>\n",
       "      <td>120038</td>\n",
       "      <td>13</td>\n",
       "    </tr>\n",
       "    <tr>\n",
       "      <th>M</th>\n",
       "      <td>179962</td>\n",
       "      <td>11</td>\n",
       "    </tr>\n",
       "  </tbody>\n",
       "</table>\n",
       "</div>"
      ],
      "text/plain": [
       "is_manager      No  Yes\n",
       "gender                 \n",
       "F           120038   13\n",
       "M           179962   11"
      ]
     },
     "execution_count": 71,
     "metadata": {},
     "output_type": "execute_result"
    }
   ],
   "source": [
    "emp_df2['is_manager'] = emp_df2['manager'].notnull().astype(int)\n",
    "emp_df2['is_manager'] = emp_df2['is_manager'].replace({0: 'No', 1: 'Yes'})\n",
    "\n",
    "observed = pd.crosstab(emp_df2.gender, emp_df2.is_manager)\n",
    "observed"
   ]
  },
  {
   "cell_type": "code",
   "execution_count": 66,
   "id": "a4983d55-22ab-416d-8035-c0ddf88c35a4",
   "metadata": {
    "tags": []
   },
   "outputs": [
    {
     "data": {
      "text/plain": [
       "Chi2ContingencyResult(statistic=1.4566857643547197, pvalue=0.22745818732810363, dof=1, expected_freq=array([[1.20041397e+05, 9.60331174e+00],\n",
       "       [1.79958603e+05, 1.43966883e+01]]))"
      ]
     },
     "execution_count": 66,
     "metadata": {},
     "output_type": "execute_result"
    }
   ],
   "source": [
    "stats.chi2_contingency(observed)"
   ]
  },
  {
   "cell_type": "code",
   "execution_count": 67,
   "id": "d351248f-aeaa-4aef-993d-424dd123a87c",
   "metadata": {
    "tags": []
   },
   "outputs": [],
   "source": [
    "chi2, p, dof, expected = stats.chi2_contingency(observed)"
   ]
  },
  {
   "cell_type": "code",
   "execution_count": 68,
   "id": "40779d09-b23f-46ef-bb4a-8ba960b34f07",
   "metadata": {
    "tags": []
   },
   "outputs": [
    {
     "name": "stdout",
     "output_type": "stream",
     "text": [
      "Observed\n",
      "[[120038     13]\n",
      " [179962     11]]\n",
      "\n",
      "Expected\n",
      "[[120041      9]\n",
      " [179958     14]]\n",
      "\n",
      "----\n",
      "chi^2 = 1.4567\n",
      "p     = 0.2275\n"
     ]
    }
   ],
   "source": [
    "print('Observed')\n",
    "print(observed.values)\n",
    "print('\\nExpected')\n",
    "print(expected.astype(int))\n",
    "print('\\n----')\n",
    "print(f'chi^2 = {chi2:.4f}')\n",
    "print(f'p     = {p:.4f}')"
   ]
  },
  {
   "cell_type": "markdown",
   "id": "81202bbb-cbe0-4ab1-aa26-ba7e311f4c3c",
   "metadata": {},
   "source": [
    "#### 3. Conclude based on above values"
   ]
  },
  {
   "cell_type": "code",
   "execution_count": 69,
   "id": "0bbf1112-04a1-4bc6-a3cf-217d19b3a03e",
   "metadata": {
    "tags": []
   },
   "outputs": [
    {
     "name": "stdout",
     "output_type": "stream",
     "text": [
      "fail to reject the null hypothesis\n"
     ]
    }
   ],
   "source": [
    "if p < alpha:\n",
    "    print('reject the null hypothesis')\n",
    "else:\n",
    "    print('fail to reject the null hypothesis')"
   ]
  },
  {
   "cell_type": "markdown",
   "id": "223d867e-8aa0-49e9-b4c3-19922de38171",
   "metadata": {},
   "source": [
    "#### There is not a relationship between gender and whether or not someone is a manger"
   ]
  }
 ],
 "metadata": {
  "kernelspec": {
   "display_name": "Python 3 (ipykernel)",
   "language": "python",
   "name": "python3"
  },
  "language_info": {
   "codemirror_mode": {
    "name": "ipython",
    "version": 3
   },
   "file_extension": ".py",
   "mimetype": "text/x-python",
   "name": "python",
   "nbconvert_exporter": "python",
   "pygments_lexer": "ipython3",
   "version": "3.11.5"
  }
 },
 "nbformat": 4,
 "nbformat_minor": 5
}
