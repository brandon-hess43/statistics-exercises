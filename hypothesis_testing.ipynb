{
 "cells": [
  {
   "cell_type": "markdown",
   "id": "6a43322c-ef63-4bdb-8c4f-d254642ba6fe",
   "metadata": {},
   "source": [
    "## For each of the following questions, formulate a null and alternative hypothesis (be as specific as you can be), then give an example of what a true positive, true negative, type I and type II errors would look like. Note that some of the questions are intentionally phrased in a vague way. It is your job to reword these as more precise questions that could be tested."
   ]
  },
  {
   "cell_type": "markdown",
   "id": "ccd2456d-b1da-4a7b-8445-a380530bbc64",
   "metadata": {},
   "source": [
    "### Has the network latency gone up since we switched internet service providers?"
   ]
  },
  {
   "cell_type": "markdown",
   "id": "46e4b5a2-0e71-4c48-a8db-2388cee62ae9",
   "metadata": {},
   "source": [
    "- ave_lat change depending on service provider (boolean)\n",
    "\n",
    "- **H0**: there is no change in ave_latency with a change in service provider\n",
    "\n",
    "- **H1**: there is a change in ave_latency with a change in service provider\n",
    "\n",
    "- **True Positive**: Reject H0 when ave_latency went up with change in service provider\n",
    "\n",
    "- **True Negative**: Fail to reject H0 when ave_latency has not changed\n",
    "\n",
    "- **Type 1 Error (False Positive)**: We reject H0 when the change in service provider has not caused an increase in ave_latency\n",
    "\n",
    "- **Type 2 Error (False Negative)**: We fail to reject H0 when the change in service provider has caused an increase in ave_latency\n"
   ]
  },
  {
   "cell_type": "markdown",
   "id": "03b0095d-858f-435e-8c29-3aee617f55b7",
   "metadata": {},
   "source": [
    "### Is the website redesign any good?"
   ]
  },
  {
   "cell_type": "markdown",
   "id": "5a993eb7-071b-4e30-a608-1b41267dc3ed",
   "metadata": {},
   "source": [
    "- Did user_satisfaction (value) change with the website redesign (boolean)\n",
    "\n",
    "- **H0**: There is no change in user_satisfaction with a change in website redesign\n",
    "\n",
    "- **H1**: There is an increase in user_satisfaction with a change in website redesign\n",
    "\n",
    "- **True Positive**: Reject H0 when user_satisfaction changed with the website redesign\n",
    "\n",
    "- **True Negative**: Fail to reject H0 when there is no change in user_satisfaction with a change in website design\n",
    "\n",
    "- **Type 1 Error (False Positive)**: We reject H0 when a change in website redesign has not caused an increase in user_satisfaction\n",
    "\n",
    "- **Type 2 Error (False Negative)**: We fail to reject H0 when a change in website design has caused an increase in user_satisfaction\n"
   ]
  },
  {
   "cell_type": "markdown",
   "id": "35fde63d-196f-481d-b0fd-5cf4b93251c9",
   "metadata": {},
   "source": [
    "### Is our television ad driving more sales?"
   ]
  },
  {
   "cell_type": "markdown",
   "id": "4f0a0599-7116-4bb3-ae52-e58ac4fd4a4f",
   "metadata": {},
   "source": [
    "- Is there a positive change in sales since (value) since launching our television ad (boolean)\n",
    "\n",
    "- **H0**: There is no change in sales since launching our ad\n",
    "\n",
    "- **H1**: There is an increase in sales since launching our ad\n",
    "\n",
    "- **True Positive**: Reject H0 when there is a positive change in sales after launching our ad\n",
    "\n",
    "- **True Negative**: Fail to reject H0 when there is no positive change in sales after launching our ad\n",
    "\n",
    "- **Type 1 Error (False Positive)**: We reject H0 when our ad has caused a positive change in sales\n",
    "\n",
    "- **Type 2 Error (False Negative)**: We fail to reject H0 when our ad has not caused a positive change in sales\n"
   ]
  }
 ],
 "metadata": {
  "kernelspec": {
   "display_name": "Python 3 (ipykernel)",
   "language": "python",
   "name": "python3"
  },
  "language_info": {
   "codemirror_mode": {
    "name": "ipython",
    "version": 3
   },
   "file_extension": ".py",
   "mimetype": "text/x-python",
   "name": "python",
   "nbconvert_exporter": "python",
   "pygments_lexer": "ipython3",
   "version": "3.11.5"
  }
 },
 "nbformat": 4,
 "nbformat_minor": 5
}
