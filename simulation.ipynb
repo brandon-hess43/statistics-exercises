{
 "cells": [
  {
   "cell_type": "markdown",
   "id": "4ea4d3e6-ba38-49c7-bcf0-2a4b32f074fc",
   "metadata": {
    "tags": []
   },
   "source": [
    "## 1. How likely is it that you roll doubles when rolling two dice?"
   ]
  },
  {
   "cell_type": "code",
   "execution_count": 7,
   "id": "c3dbdfea-b0f2-42d6-904c-af695544cb1b",
   "metadata": {
    "tags": []
   },
   "outputs": [],
   "source": [
    "import numpy as np\n",
    "import pandas as pd\n",
    "\n",
    "np.random.seed(29)"
   ]
  },
  {
   "cell_type": "code",
   "execution_count": 353,
   "id": "4728bbe3-7eae-4457-ae51-4892b2e7ee0f",
   "metadata": {
    "tags": []
   },
   "outputs": [
    {
     "data": {
      "text/plain": [
       "array([[2, 4],\n",
       "       [2, 1],\n",
       "       [3, 2],\n",
       "       ...,\n",
       "       [4, 5],\n",
       "       [2, 5],\n",
       "       [6, 4]])"
      ]
     },
     "execution_count": 353,
     "metadata": {},
     "output_type": "execute_result"
    }
   ],
   "source": [
    "n_trials = nrows = 10_000\n",
    "n_dice = ncols = 2\n",
    "\n",
    "rolls = np.random.choice([1, 2, 3, 4, 5, 6], n_trials * n_dice).reshape(nrows, ncols)\n",
    "rolls"
   ]
  },
  {
   "cell_type": "code",
   "execution_count": 354,
   "id": "aa7d5d23-c643-461f-8890-59ddb49b3164",
   "metadata": {
    "tags": []
   },
   "outputs": [
    {
     "data": {
      "text/html": [
       "<div>\n",
       "<style scoped>\n",
       "    .dataframe tbody tr th:only-of-type {\n",
       "        vertical-align: middle;\n",
       "    }\n",
       "\n",
       "    .dataframe tbody tr th {\n",
       "        vertical-align: top;\n",
       "    }\n",
       "\n",
       "    .dataframe thead th {\n",
       "        text-align: right;\n",
       "    }\n",
       "</style>\n",
       "<table border=\"1\" class=\"dataframe\">\n",
       "  <thead>\n",
       "    <tr style=\"text-align: right;\">\n",
       "      <th></th>\n",
       "      <th>Die 1</th>\n",
       "      <th>Die 2</th>\n",
       "    </tr>\n",
       "  </thead>\n",
       "  <tbody>\n",
       "    <tr>\n",
       "      <th>0</th>\n",
       "      <td>2</td>\n",
       "      <td>4</td>\n",
       "    </tr>\n",
       "    <tr>\n",
       "      <th>1</th>\n",
       "      <td>2</td>\n",
       "      <td>1</td>\n",
       "    </tr>\n",
       "    <tr>\n",
       "      <th>2</th>\n",
       "      <td>3</td>\n",
       "      <td>2</td>\n",
       "    </tr>\n",
       "    <tr>\n",
       "      <th>3</th>\n",
       "      <td>3</td>\n",
       "      <td>2</td>\n",
       "    </tr>\n",
       "    <tr>\n",
       "      <th>4</th>\n",
       "      <td>4</td>\n",
       "      <td>6</td>\n",
       "    </tr>\n",
       "  </tbody>\n",
       "</table>\n",
       "</div>"
      ],
      "text/plain": [
       "   Die 1  Die 2\n",
       "0      2      4\n",
       "1      2      1\n",
       "2      3      2\n",
       "3      3      2\n",
       "4      4      6"
      ]
     },
     "execution_count": 354,
     "metadata": {},
     "output_type": "execute_result"
    }
   ],
   "source": [
    "df = pd.DataFrame(rolls, columns=['Die 1', 'Die 2'])\n",
    "df.head()"
   ]
  },
  {
   "cell_type": "code",
   "execution_count": 355,
   "id": "115c2840-3611-40b4-80b0-f2b8ee41c622",
   "metadata": {
    "tags": []
   },
   "outputs": [
    {
     "data": {
      "text/html": [
       "<div>\n",
       "<style scoped>\n",
       "    .dataframe tbody tr th:only-of-type {\n",
       "        vertical-align: middle;\n",
       "    }\n",
       "\n",
       "    .dataframe tbody tr th {\n",
       "        vertical-align: top;\n",
       "    }\n",
       "\n",
       "    .dataframe thead th {\n",
       "        text-align: right;\n",
       "    }\n",
       "</style>\n",
       "<table border=\"1\" class=\"dataframe\">\n",
       "  <thead>\n",
       "    <tr style=\"text-align: right;\">\n",
       "      <th></th>\n",
       "      <th>Die 1</th>\n",
       "      <th>Die 2</th>\n",
       "      <th>Doubles</th>\n",
       "    </tr>\n",
       "  </thead>\n",
       "  <tbody>\n",
       "    <tr>\n",
       "      <th>0</th>\n",
       "      <td>2</td>\n",
       "      <td>4</td>\n",
       "      <td>False</td>\n",
       "    </tr>\n",
       "    <tr>\n",
       "      <th>1</th>\n",
       "      <td>2</td>\n",
       "      <td>1</td>\n",
       "      <td>False</td>\n",
       "    </tr>\n",
       "    <tr>\n",
       "      <th>2</th>\n",
       "      <td>3</td>\n",
       "      <td>2</td>\n",
       "      <td>False</td>\n",
       "    </tr>\n",
       "    <tr>\n",
       "      <th>3</th>\n",
       "      <td>3</td>\n",
       "      <td>2</td>\n",
       "      <td>False</td>\n",
       "    </tr>\n",
       "    <tr>\n",
       "      <th>4</th>\n",
       "      <td>4</td>\n",
       "      <td>6</td>\n",
       "      <td>False</td>\n",
       "    </tr>\n",
       "  </tbody>\n",
       "</table>\n",
       "</div>"
      ],
      "text/plain": [
       "   Die 1  Die 2  Doubles\n",
       "0      2      4    False\n",
       "1      2      1    False\n",
       "2      3      2    False\n",
       "3      3      2    False\n",
       "4      4      6    False"
      ]
     },
     "execution_count": 355,
     "metadata": {},
     "output_type": "execute_result"
    }
   ],
   "source": [
    "df['Doubles'] = df['Die 1'] == df['Die 2']\n",
    "df.head()"
   ]
  },
  {
   "cell_type": "code",
   "execution_count": 356,
   "id": "4303cd61-3930-4f54-acc9-ec2860d5ebf4",
   "metadata": {
    "tags": []
   },
   "outputs": [
    {
     "data": {
      "text/plain": [
       "0.1681"
      ]
     },
     "execution_count": 356,
     "metadata": {},
     "output_type": "execute_result"
    }
   ],
   "source": [
    "probability_doubles = df['Doubles'].mean()\n",
    "probability_doubles"
   ]
  },
  {
   "cell_type": "markdown",
   "id": "5a005f76-0026-4828-b22d-3c0fe3ccbb3a",
   "metadata": {
    "tags": []
   },
   "source": [
    "## 2. If you flip 8 coins, what is the probability of getting exactly 3 heads? What is the probability of getting more than 3 heads?\n"
   ]
  },
  {
   "cell_type": "code",
   "execution_count": 36,
   "id": "e7895e9a-afbd-411b-af58-a148844f9921",
   "metadata": {
    "tags": []
   },
   "outputs": [],
   "source": [
    "n_trials = nrows = 10_000\n",
    "n_coins = ncols = 8\n",
    "outcomes = ['H','T']"
   ]
  },
  {
   "cell_type": "code",
   "execution_count": 38,
   "id": "b9a2b2ff-cd1c-44e1-bf52-748251200379",
   "metadata": {
    "tags": []
   },
   "outputs": [
    {
     "data": {
      "text/plain": [
       "array([['T', 'H', 'H', ..., 'T', 'H', 'H'],\n",
       "       ['T', 'H', 'H', ..., 'T', 'H', 'T'],\n",
       "       ['T', 'H', 'H', ..., 'T', 'H', 'H'],\n",
       "       ...,\n",
       "       ['T', 'T', 'T', ..., 'T', 'T', 'T'],\n",
       "       ['T', 'H', 'H', ..., 'T', 'T', 'T'],\n",
       "       ['H', 'H', 'T', ..., 'H', 'H', 'T']], dtype='<U1')"
      ]
     },
     "execution_count": 38,
     "metadata": {},
     "output_type": "execute_result"
    }
   ],
   "source": [
    "eight_flips = np.random.choice(outcomes, (n_trials, n_coins))\n",
    "eight_flips"
   ]
  },
  {
   "cell_type": "code",
   "execution_count": 39,
   "id": "a7b3125b-d63d-450c-852b-6d8d995962d8",
   "metadata": {
    "tags": []
   },
   "outputs": [
    {
     "data": {
      "text/plain": [
       "array([5, 4, 5, ..., 1, 4, 4])"
      ]
     },
     "execution_count": 39,
     "metadata": {},
     "output_type": "execute_result"
    }
   ],
   "source": [
    "(eight_flips == 'H').sum(axis=1)"
   ]
  },
  {
   "cell_type": "code",
   "execution_count": 43,
   "id": "00add685-c58a-4697-8bb5-135d2fcb10a3",
   "metadata": {
    "tags": []
   },
   "outputs": [
    {
     "data": {
      "text/plain": [
       "0.2138"
      ]
     },
     "execution_count": 43,
     "metadata": {},
     "output_type": "execute_result"
    }
   ],
   "source": [
    "prob_exactly_3_heads = ((eight_flips == 'H').sum(axis=1) == 3).mean()\n",
    "prob_exactly_3_heads"
   ]
  },
  {
   "cell_type": "code",
   "execution_count": 48,
   "id": "838c299f-a2e7-4699-a50d-019f01a69830",
   "metadata": {
    "tags": []
   },
   "outputs": [
    {
     "data": {
      "text/plain": [
       "0.6394"
      ]
     },
     "execution_count": 48,
     "metadata": {},
     "output_type": "execute_result"
    }
   ],
   "source": [
    "prob_more_than_3_heads = ((eight_flips == 'H').sum(axis=1) > 3).mean()\n",
    "prob_more_than_3_heads"
   ]
  },
  {
   "cell_type": "markdown",
   "id": "8e283a4f-c862-4e4d-8b70-1f11812bb16f",
   "metadata": {
    "tags": []
   },
   "source": [
    "## 3. There are approximitely 3 web development cohorts for every 1 data science cohort at Codeup. Assuming that Codeup randomly selects an alumni to put on a billboard, what are the odds that the two billboards I drive past both have data science students on them?"
   ]
  },
  {
   "cell_type": "code",
   "execution_count": 345,
   "id": "362b5ae8-82a6-4c03-866d-aa9bd7f51c73",
   "metadata": {
    "tags": []
   },
   "outputs": [
    {
     "data": {
      "text/plain": [
       "array([[0.35448399, 0.0657788 ],\n",
       "       [0.84608653, 0.88602877],\n",
       "       [0.397946  , 0.42602397],\n",
       "       ...,\n",
       "       [0.07792842, 0.72302844],\n",
       "       [0.0385882 , 0.18520685],\n",
       "       [0.23390585, 0.87591882]])"
      ]
     },
     "execution_count": 345,
     "metadata": {},
     "output_type": "execute_result"
    }
   ],
   "source": [
    "prob = 1/4\n",
    "drive_by = 2\n",
    "trials_drive = 10_000\n",
    "bb_array = np.random.random((trials_drive, drive_by))\n",
    "bb_array\n",
    "\n"
   ]
  },
  {
   "cell_type": "code",
   "execution_count": 350,
   "id": "0f0052e7-d458-43a5-8e54-53bc25f32ed9",
   "metadata": {
    "tags": []
   },
   "outputs": [
    {
     "data": {
      "text/plain": [
       "0.0674"
      ]
     },
     "execution_count": 350,
     "metadata": {},
     "output_type": "execute_result"
    }
   ],
   "source": [
    "((bb_array < prob).sum(axis=1)==2).mean()"
   ]
  },
  {
   "cell_type": "markdown",
   "id": "adb93343-0e8d-428a-90bd-695f7cadf18b",
   "metadata": {},
   "source": [
    "## 4. Codeup students buy, on average, 3 poptart packages with a standard deviation of 1.5 a day from the snack vending machine. If on monday the machine is restocked with 17 poptart packages, how likely is it that I will be able to buy some poptarts on Friday afternoon? (Remember, if you have mean and standard deviation, use the np.random.normal) You'll need to make a judgement call on how to handle some of your values"
   ]
  },
  {
   "cell_type": "code",
   "execution_count": 357,
   "id": "70a2a56a-4887-45f8-a58b-ae84840d106d",
   "metadata": {
    "tags": []
   },
   "outputs": [],
   "source": [
    "mean = 3\n",
    "sd = 1.5\n",
    "days = 5"
   ]
  },
  {
   "cell_type": "code",
   "execution_count": 361,
   "id": "51e2dc81-68e8-4697-900a-5d2bd47cc8fa",
   "metadata": {
    "tags": []
   },
   "outputs": [
    {
     "data": {
      "text/plain": [
       "array([[ 4.95762516,  6.24958585,  3.69443366,  1.74897614,  1.22453691],\n",
       "       [ 3.42744067,  3.81213992,  2.52169832,  5.71556321,  0.97925895],\n",
       "       [ 2.23929988, -0.37200595,  4.28366067,  1.41012722,  4.43151107],\n",
       "       ...,\n",
       "       [ 2.4669206 ,  3.24326938,  2.99199687,  1.06913252,  4.08373547],\n",
       "       [ 4.17015289,  2.69322437,  0.44955142,  2.92436046,  2.80559373],\n",
       "       [ 6.45751547,  4.23746471,  3.5869221 ,  1.72265889,  3.67004826]])"
      ]
     },
     "execution_count": 361,
     "metadata": {},
     "output_type": "execute_result"
    }
   ],
   "source": [
    "daily_pt = (np.random.normal(mean,sd,(100_000,days)))\n",
    "daily_pt"
   ]
  },
  {
   "cell_type": "code",
   "execution_count": 364,
   "id": "02927f5b-16d1-4f12-9fdc-2782261e10e4",
   "metadata": {
    "tags": []
   },
   "outputs": [
    {
     "data": {
      "text/plain": [
       "array([17.87515772, 16.45610107, 11.9925929 , ..., 13.85505484,\n",
       "       13.04288287, 19.67460943])"
      ]
     },
     "execution_count": 364,
     "metadata": {},
     "output_type": "execute_result"
    }
   ],
   "source": [
    "weekly_pt = daily_pt.sum(axis=1)\n",
    "weekly_pt"
   ]
  },
  {
   "cell_type": "code",
   "execution_count": 366,
   "id": "25b4987a-6862-4041-b66f-b6a551ea1851",
   "metadata": {
    "tags": []
   },
   "outputs": [
    {
     "data": {
      "text/plain": [
       "array([False, False,  True, ...,  True,  True, False])"
      ]
     },
     "execution_count": 366,
     "metadata": {},
     "output_type": "execute_result"
    }
   ],
   "source": [
    "(17 - weekly_pt) > 1"
   ]
  },
  {
   "cell_type": "code",
   "execution_count": 367,
   "id": "588a404c-1fe5-44b5-9840-c83eefd33554",
   "metadata": {
    "tags": []
   },
   "outputs": [
    {
     "data": {
      "text/plain": [
       "0.61891"
      ]
     },
     "execution_count": 367,
     "metadata": {},
     "output_type": "execute_result"
    }
   ],
   "source": [
    "((17 - weekly_pt) > 1).mean()"
   ]
  },
  {
   "cell_type": "markdown",
   "id": "dc5565ef-8ff9-4643-8bfd-8e34fc545f0d",
   "metadata": {},
   "source": [
    "## 5. Compare Heights \n",
    "    Men have an average height of 178 cm and standard deviation of 8cm.\n",
    "    Women have a mean of 170, sd = 6cm.\n",
    "    Since you have means and standard deviations, you can use np.random.normal to generate observations.\n",
    "    - If a man and woman are chosen at random, what is the likelihood the woman is taller than the man?"
   ]
  },
  {
   "cell_type": "code",
   "execution_count": 368,
   "id": "55d148f4-fbfe-425c-b23e-b40f90ddf39a",
   "metadata": {
    "tags": []
   },
   "outputs": [],
   "source": [
    "m_ave = 178\n",
    "m_std = 8\n",
    "f_ave = 170\n",
    "f_std = 6"
   ]
  },
  {
   "cell_type": "code",
   "execution_count": 369,
   "id": "c58f3096-f931-48ef-b280-90137b1ccccf",
   "metadata": {
    "tags": []
   },
   "outputs": [
    {
     "data": {
      "text/plain": [
       "array([170.10336685, 171.39668585, 171.07040416, ..., 182.82764759,\n",
       "       167.39281367, 185.07905616])"
      ]
     },
     "execution_count": 369,
     "metadata": {},
     "output_type": "execute_result"
    }
   ],
   "source": [
    "random_male = np.random.normal(m_ave,m_std, 100_000)\n",
    "random_male"
   ]
  },
  {
   "cell_type": "code",
   "execution_count": 370,
   "id": "bf1810be-18cd-4980-aefb-5c72745f6333",
   "metadata": {
    "tags": []
   },
   "outputs": [
    {
     "data": {
      "text/plain": [
       "array([165.69612826, 180.19162419, 174.29939781, ..., 167.50135297,\n",
       "       166.28939627, 178.70646665])"
      ]
     },
     "execution_count": 370,
     "metadata": {},
     "output_type": "execute_result"
    }
   ],
   "source": [
    "random_female = np.random.normal(f_ave,f_std, 100_000)\n",
    "random_female"
   ]
  },
  {
   "cell_type": "code",
   "execution_count": 371,
   "id": "8c1e6111-c544-4029-8060-3d7bfecfd162",
   "metadata": {
    "tags": []
   },
   "outputs": [
    {
     "data": {
      "text/plain": [
       "0.21137"
      ]
     },
     "execution_count": 371,
     "metadata": {},
     "output_type": "execute_result"
    }
   ],
   "source": [
    "prob_f_taller_than_m = (random_female > random_male).mean()\n",
    "prob_f_taller_than_m"
   ]
  },
  {
   "cell_type": "markdown",
   "id": "a47f7bd6-d4d7-45ec-a2e2-52b85ef47228",
   "metadata": {},
   "source": [
    "## 6. When installing anaconda on a student's computer, there's a 1 in 250 chance that the download is corrupted and the installation fails. What are the odds that after having 50 students download anaconda, no one has an installation issue? 100 students?"
   ]
  },
  {
   "cell_type": "code",
   "execution_count": 133,
   "id": "f405e2cd-5c9f-49b2-a6a4-e051ec75fbb3",
   "metadata": {
    "tags": []
   },
   "outputs": [],
   "source": [
    "odd_corrupt = 1/250\n",
    "n_students = 450\n",
    "n_trials = 100_000"
   ]
  },
  {
   "cell_type": "code",
   "execution_count": 134,
   "id": "edb5a21e-0312-4153-ae04-fcfa56dffba0",
   "metadata": {
    "tags": []
   },
   "outputs": [
    {
     "data": {
      "text/plain": [
       "array([[0.13401559, 0.46871057, 0.07796923, ..., 0.91514757, 0.5842561 ,\n",
       "        0.85051672],\n",
       "       [0.5962733 , 0.10398473, 0.53412493, ..., 0.08971387, 0.89192536,\n",
       "        0.76869931],\n",
       "       [0.83352809, 0.57995227, 0.84884585, ..., 0.01161674, 0.51303293,\n",
       "        0.03036368],\n",
       "       ...,\n",
       "       [0.0313857 , 0.86647283, 0.99892272, ..., 0.25205634, 0.79752604,\n",
       "        0.88579132],\n",
       "       [0.90891612, 0.41266799, 0.50999889, ..., 0.2414604 , 0.39576355,\n",
       "        0.54154739],\n",
       "       [0.23892699, 0.49347844, 0.05133928, ..., 0.79074889, 0.21119304,\n",
       "        0.68950439]])"
      ]
     },
     "execution_count": 134,
     "metadata": {},
     "output_type": "execute_result"
    }
   ],
   "source": [
    "data = np.random.random((n_trials,n_students))\n",
    "data"
   ]
  },
  {
   "cell_type": "code",
   "execution_count": 135,
   "id": "3fa50cda-f2b1-4fa5-ab82-ad58a8f57343",
   "metadata": {
    "tags": []
   },
   "outputs": [
    {
     "data": {
      "text/plain": [
       "array([[False, False, False, ..., False, False, False],\n",
       "       [False, False, False, ..., False, False, False],\n",
       "       [False, False, False, ..., False, False, False],\n",
       "       ...,\n",
       "       [False, False, False, ..., False, False, False],\n",
       "       [False, False, False, ..., False, False, False],\n",
       "       [False, False, False, ..., False, False, False]])"
      ]
     },
     "execution_count": 135,
     "metadata": {},
     "output_type": "execute_result"
    }
   ],
   "source": [
    "(data < odd_corrupt) #are any less than odds"
   ]
  },
  {
   "cell_type": "code",
   "execution_count": 136,
   "id": "e76137c1-0a2e-4695-bee6-820293451430",
   "metadata": {
    "tags": []
   },
   "outputs": [
    {
     "data": {
      "text/plain": [
       "array([2, 4, 0, ..., 1, 3, 2])"
      ]
     },
     "execution_count": 136,
     "metadata": {},
     "output_type": "execute_result"
    }
   ],
   "source": [
    "(data < odd_corrupt).sum(axis=1) #sum of T or F"
   ]
  },
  {
   "cell_type": "code",
   "execution_count": 115,
   "id": "183e28f0-ca20-4117-b827-9e8dc03b4bc1",
   "metadata": {
    "tags": []
   },
   "outputs": [
    {
     "data": {
      "text/plain": [
       "array([False,  True, False, ...,  True,  True,  True])"
      ]
     },
     "execution_count": 115,
     "metadata": {},
     "output_type": "execute_result"
    }
   ],
   "source": [
    "(data < odd_corrupt).sum(axis=1) == 0 #True if no corrupt"
   ]
  },
  {
   "cell_type": "code",
   "execution_count": 116,
   "id": "edfbe808-c2c8-411f-913c-5063f7a9706e",
   "metadata": {
    "tags": []
   },
   "outputs": [
    {
     "data": {
      "text/plain": [
       "0.81632"
      ]
     },
     "execution_count": 116,
     "metadata": {},
     "output_type": "execute_result"
    }
   ],
   "source": [
    "((data < odd_corrupt).sum(axis=1) == 0).mean() #odds no corrupt w/ 50 students"
   ]
  },
  {
   "cell_type": "code",
   "execution_count": 121,
   "id": "5d49830b-d2ce-44ec-a03d-28106cad14f9",
   "metadata": {
    "tags": []
   },
   "outputs": [
    {
     "data": {
      "text/plain": [
       "0.66889"
      ]
     },
     "execution_count": 121,
     "metadata": {},
     "output_type": "execute_result"
    }
   ],
   "source": [
    "((data < odd_corrupt).sum(axis=1) == 0).mean() #odds no corrupt w/ 100 students"
   ]
  },
  {
   "cell_type": "markdown",
   "id": "f881e87b-bf92-44da-bfc2-af7b6af5a8f6",
   "metadata": {},
   "source": [
    "### What is the probability that we observe an installation issue within the first 150 students that download anaconda?"
   ]
  },
  {
   "cell_type": "code",
   "execution_count": 131,
   "id": "1852cc9b-3942-487d-8b57-1ce707102270",
   "metadata": {
    "tags": []
   },
   "outputs": [
    {
     "data": {
      "text/plain": [
       "array([False, False,  True, ...,  True, False,  True])"
      ]
     },
     "execution_count": 131,
     "metadata": {},
     "output_type": "execute_result"
    }
   ],
   "source": [
    "(data < odd_corrupt).sum(axis=1) != 0 #True if any corrupt"
   ]
  },
  {
   "cell_type": "code",
   "execution_count": 132,
   "id": "bb3e7c7b-bef9-48e7-be2c-b31f2748c795",
   "metadata": {
    "tags": []
   },
   "outputs": [
    {
     "data": {
      "text/plain": [
       "0.45269"
      ]
     },
     "execution_count": 132,
     "metadata": {},
     "output_type": "execute_result"
    }
   ],
   "source": [
    "((data < odd_corrupt).sum(axis=1) != 0).mean() #odds we observe install issue within first 150 students"
   ]
  },
  {
   "cell_type": "markdown",
   "id": "b084eff4-36d6-483f-bfee-596a1166c7d5",
   "metadata": {},
   "source": [
    "### How likely is it that 450 students all download anaconda without an issue?"
   ]
  },
  {
   "cell_type": "code",
   "execution_count": 137,
   "id": "5d87c8df-9a65-4c98-b04b-6e15c2544b07",
   "metadata": {
    "tags": []
   },
   "outputs": [
    {
     "data": {
      "text/plain": [
       "array([False, False,  True, ..., False, False, False])"
      ]
     },
     "execution_count": 137,
     "metadata": {},
     "output_type": "execute_result"
    }
   ],
   "source": [
    "(data < odd_corrupt).sum(axis=1) == 0 #True if no corrupt"
   ]
  },
  {
   "cell_type": "code",
   "execution_count": 138,
   "id": "9ca94e39-55a1-4073-9a5c-8ca43ae584a3",
   "metadata": {
    "tags": []
   },
   "outputs": [
    {
     "data": {
      "text/plain": [
       "0.16487"
      ]
     },
     "execution_count": 138,
     "metadata": {},
     "output_type": "execute_result"
    }
   ],
   "source": [
    "((data < odd_corrupt).sum(axis=1) == 0).mean() #odds 450 students download without issue"
   ]
  },
  {
   "cell_type": "markdown",
   "id": "39560a3b-c605-418a-ac8c-b1110284f67f",
   "metadata": {},
   "source": [
    "## 7. There's a 70% chance on any given day that there will be at least one food truck at Travis Park. However, you haven't seen a food truck there in 3 days. How unlikely is this?"
   ]
  },
  {
   "cell_type": "code",
   "execution_count": 139,
   "id": "5b2ac919-8de4-43eb-8b89-84ba22ae9630",
   "metadata": {
    "tags": []
   },
   "outputs": [],
   "source": [
    "ft_odds = .7\n",
    "ft_days = 3\n",
    "ft_trials = 100_000"
   ]
  },
  {
   "cell_type": "code",
   "execution_count": 141,
   "id": "52ed18ff-9c4c-4ac8-8dd6-4b2415a0e8d0",
   "metadata": {
    "tags": []
   },
   "outputs": [
    {
     "data": {
      "text/plain": [
       "array([[0.19134616, 0.84138674, 0.96285398],\n",
       "       [0.24176763, 0.94916583, 0.23166545],\n",
       "       [0.03458824, 0.45457025, 0.11076582],\n",
       "       ...,\n",
       "       [0.60862598, 0.22580738, 0.61508084],\n",
       "       [0.95940878, 0.26278479, 0.16335598],\n",
       "       [0.65124831, 0.79558849, 0.36540874]])"
      ]
     },
     "execution_count": 141,
     "metadata": {},
     "output_type": "execute_result"
    }
   ],
   "source": [
    "ft_data = np.random.random((ft_trials, ft_days))\n",
    "ft_data"
   ]
  },
  {
   "cell_type": "code",
   "execution_count": 142,
   "id": "e77765c7-074f-4a5e-9614-90165c315323",
   "metadata": {
    "tags": []
   },
   "outputs": [
    {
     "data": {
      "text/plain": [
       "array([[False,  True,  True],\n",
       "       [False,  True, False],\n",
       "       [False, False, False],\n",
       "       ...,\n",
       "       [False, False, False],\n",
       "       [ True, False, False],\n",
       "       [False,  True, False]])"
      ]
     },
     "execution_count": 142,
     "metadata": {},
     "output_type": "execute_result"
    }
   ],
   "source": [
    "ft_data > ft_odds #True = no food truck"
   ]
  },
  {
   "cell_type": "code",
   "execution_count": 143,
   "id": "9bc5d3ab-e263-4b64-800f-613fa0b817da",
   "metadata": {
    "tags": []
   },
   "outputs": [
    {
     "data": {
      "text/plain": [
       "array([2, 1, 0, ..., 0, 1, 1])"
      ]
     },
     "execution_count": 143,
     "metadata": {},
     "output_type": "execute_result"
    }
   ],
   "source": [
    "(ft_data > ft_odds).sum(axis=1) #3 = no food truck 3 days in a row"
   ]
  },
  {
   "cell_type": "code",
   "execution_count": 159,
   "id": "df392224-b6c3-4696-a8c0-ee6e4bc1c419",
   "metadata": {
    "tags": []
   },
   "outputs": [
    {
     "data": {
      "text/plain": [
       "0.02746"
      ]
     },
     "execution_count": 159,
     "metadata": {},
     "output_type": "execute_result"
    }
   ],
   "source": [
    "((ft_data > ft_odds).sum(axis=1)==3).mean() #odds no food truck 3 days in a row"
   ]
  },
  {
   "cell_type": "markdown",
   "id": "1f80ac7a-a5f1-4205-af51-b0afb9f75489",
   "metadata": {},
   "source": [
    "### How likely is it that a food truck will show up sometime this week?"
   ]
  },
  {
   "cell_type": "code",
   "execution_count": 146,
   "id": "b00336d9-cc75-4f78-86e7-3a7fe765537d",
   "metadata": {
    "tags": []
   },
   "outputs": [],
   "source": [
    "ft_odds = .7\n",
    "ft_wk = 7\n",
    "ft_trials = 100_000"
   ]
  },
  {
   "cell_type": "code",
   "execution_count": 147,
   "id": "73e794ca-e1e4-4786-8b83-5ce2d22ef8cb",
   "metadata": {
    "tags": []
   },
   "outputs": [
    {
     "data": {
      "text/plain": [
       "array([[0.25524183, 0.87764945, 0.36911497, ..., 0.73586434, 0.13161981,\n",
       "        0.847535  ],\n",
       "       [0.21276934, 0.29595938, 0.21703163, ..., 0.97847684, 0.54791608,\n",
       "        0.86267875],\n",
       "       [0.29861157, 0.21623033, 0.55186041, ..., 0.75637867, 0.31032589,\n",
       "        0.55221278],\n",
       "       ...,\n",
       "       [0.48793843, 0.04247324, 0.46433399, ..., 0.09149326, 0.28740085,\n",
       "        0.45890244],\n",
       "       [0.69197166, 0.6903685 , 0.53754282, ..., 0.38092965, 0.66424569,\n",
       "        0.69494698],\n",
       "       [0.07180327, 0.42393757, 0.72078297, ..., 0.67811774, 0.30822868,\n",
       "        0.42083724]])"
      ]
     },
     "execution_count": 147,
     "metadata": {},
     "output_type": "execute_result"
    }
   ],
   "source": [
    "ft_wk_data = np.random.random((ft_trials, ft_wk))\n",
    "ft_wk_data"
   ]
  },
  {
   "cell_type": "code",
   "execution_count": 152,
   "id": "26b347b5-318f-4937-954a-74266fb2bdc4",
   "metadata": {
    "tags": []
   },
   "outputs": [
    {
     "data": {
      "text/plain": [
       "array([[ True, False,  True, ..., False,  True, False],\n",
       "       [ True,  True,  True, ..., False,  True, False],\n",
       "       [ True,  True,  True, ..., False,  True,  True],\n",
       "       ...,\n",
       "       [ True,  True,  True, ...,  True,  True,  True],\n",
       "       [ True,  True,  True, ...,  True,  True,  True],\n",
       "       [ True,  True, False, ...,  True,  True,  True]])"
      ]
     },
     "execution_count": 152,
     "metadata": {},
     "output_type": "execute_result"
    }
   ],
   "source": [
    "ft_wk_data < ft_odds #False = no food truck"
   ]
  },
  {
   "cell_type": "code",
   "execution_count": 153,
   "id": "f1fbba2a-ca9e-4b9e-9c3f-6cfb6cccca96",
   "metadata": {
    "tags": []
   },
   "outputs": [
    {
     "data": {
      "text/plain": [
       "array([4, 4, 6, ..., 7, 6, 6])"
      ]
     },
     "execution_count": 153,
     "metadata": {},
     "output_type": "execute_result"
    }
   ],
   "source": [
    "(ft_wk_data < ft_odds).sum(axis=1)"
   ]
  },
  {
   "cell_type": "code",
   "execution_count": 155,
   "id": "3d852e7d-cc66-4f16-af93-a48c2f7f850e",
   "metadata": {
    "tags": []
   },
   "outputs": [
    {
     "data": {
      "text/plain": [
       "0.9998"
      ]
     },
     "execution_count": 155,
     "metadata": {},
     "output_type": "execute_result"
    }
   ],
   "source": [
    "((ft_wk_data < ft_odds).sum(axis=1)>0).mean() #odds that a food truck came at least once"
   ]
  },
  {
   "cell_type": "markdown",
   "id": "c3a74101-17c1-492c-8c0e-1d238f5cde6b",
   "metadata": {},
   "source": [
    "## If 23 people are in the same room, what are the odds that two of them share a birthday? What if it's 20 people? 40?"
   ]
  },
  {
   "cell_type": "code",
   "execution_count": 374,
   "id": "ad38f3bc-8130-42a8-9f59-d81bfcc78db5",
   "metadata": {
    "tags": []
   },
   "outputs": [
    {
     "data": {
      "text/plain": [
       "array([[102, 264, 168, ..., 282, 193, 347],\n",
       "       [174,   7, 204, ..., 182, 237, 306],\n",
       "       [286,  57, 237, ..., 264, 218, 322],\n",
       "       ...,\n",
       "       [312,  13,  33, ...,  83,  39, 167],\n",
       "       [330, 271, 158, ..., 114, 167, 116],\n",
       "       [130, 220, 175, ..., 157,  20, 168]])"
      ]
     },
     "execution_count": 374,
     "metadata": {},
     "output_type": "execute_result"
    }
   ],
   "source": [
    "bday_list = list(range(1,366,1))\n",
    "bday_trials = 100_000\n",
    "bday_n_ppl = 40\n",
    "bday_array = np.random.choice(bday_list,(bday_trials, bday_n_ppl))\n",
    "bday_array"
   ]
  },
  {
   "cell_type": "code",
   "execution_count": 375,
   "id": "dff80f04-baee-4d38-af63-3af068128f25",
   "metadata": {
    "tags": []
   },
   "outputs": [
    {
     "data": {
      "text/plain": [
       "0     174\n",
       "1       7\n",
       "2     204\n",
       "3      51\n",
       "4     205\n",
       "5     131\n",
       "6      60\n",
       "7      61\n",
       "8      35\n",
       "9     271\n",
       "10    110\n",
       "11    179\n",
       "12    134\n",
       "13    123\n",
       "14    174\n",
       "15    138\n",
       "16    283\n",
       "17     60\n",
       "18     88\n",
       "19    127\n",
       "20     81\n",
       "21     17\n",
       "22     41\n",
       "23    171\n",
       "24    354\n",
       "25    112\n",
       "26    164\n",
       "27    273\n",
       "28    350\n",
       "29    111\n",
       "30     86\n",
       "31    235\n",
       "32    300\n",
       "33     83\n",
       "34     82\n",
       "35     28\n",
       "36    240\n",
       "37    182\n",
       "38    237\n",
       "39    306\n",
       "Name: 1, dtype: int64"
      ]
     },
     "execution_count": 375,
     "metadata": {},
     "output_type": "execute_result"
    }
   ],
   "source": [
    "bday_df = pd.DataFrame(bday_array)\n",
    "bday_df.iloc[1]"
   ]
  },
  {
   "cell_type": "code",
   "execution_count": 259,
   "id": "91465f80-f60a-473f-99cf-4ae970592b40",
   "metadata": {
    "tags": []
   },
   "outputs": [
    {
     "name": "stdout",
     "output_type": "stream",
     "text": [
      "13\n",
      "62\n",
      "203\n",
      "84\n",
      "98\n",
      "327\n",
      "76\n",
      "124\n",
      "67\n",
      "219\n",
      "363\n",
      "309\n",
      "245\n",
      "278\n",
      "103\n",
      "120\n",
      "203\n",
      "249\n",
      "310\n",
      "142\n",
      "16\n",
      "171\n",
      "164\n"
     ]
    }
   ],
   "source": [
    "for n in bday_df.iloc[0]:\n",
    "    print(n)"
   ]
  },
  {
   "cell_type": "code",
   "execution_count": 265,
   "id": "d6eb5860-e01f-493d-afee-f50b30922d37",
   "metadata": {
    "tags": []
   },
   "outputs": [
    {
     "data": {
      "text/plain": [
       "0       False\n",
       "1       False\n",
       "2       False\n",
       "3       False\n",
       "4       False\n",
       "        ...  \n",
       "9995    False\n",
       "9996    False\n",
       "9997    False\n",
       "9998    False\n",
       "9999    False\n",
       "Length: 10000, dtype: bool"
      ]
     },
     "execution_count": 265,
     "metadata": {},
     "output_type": "execute_result"
    }
   ],
   "source": [
    "bday_df.duplicated()"
   ]
  },
  {
   "cell_type": "code",
   "execution_count": 316,
   "id": "5ffac883-3e11-4e3e-b196-c92603b36b52",
   "metadata": {
    "tags": []
   },
   "outputs": [
    {
     "data": {
      "text/html": [
       "<div>\n",
       "<style scoped>\n",
       "    .dataframe tbody tr th:only-of-type {\n",
       "        vertical-align: middle;\n",
       "    }\n",
       "\n",
       "    .dataframe tbody tr th {\n",
       "        vertical-align: top;\n",
       "    }\n",
       "\n",
       "    .dataframe thead th {\n",
       "        text-align: right;\n",
       "    }\n",
       "</style>\n",
       "<table border=\"1\" class=\"dataframe\">\n",
       "  <thead>\n",
       "    <tr style=\"text-align: right;\">\n",
       "      <th></th>\n",
       "      <th>0</th>\n",
       "      <th>1</th>\n",
       "      <th>2</th>\n",
       "      <th>3</th>\n",
       "      <th>4</th>\n",
       "      <th>5</th>\n",
       "      <th>6</th>\n",
       "      <th>7</th>\n",
       "      <th>8</th>\n",
       "      <th>9</th>\n",
       "      <th>...</th>\n",
       "      <th>13</th>\n",
       "      <th>14</th>\n",
       "      <th>15</th>\n",
       "      <th>16</th>\n",
       "      <th>17</th>\n",
       "      <th>18</th>\n",
       "      <th>19</th>\n",
       "      <th>20</th>\n",
       "      <th>21</th>\n",
       "      <th>22</th>\n",
       "    </tr>\n",
       "  </thead>\n",
       "  <tbody>\n",
       "    <tr>\n",
       "      <th>0</th>\n",
       "      <td>70</td>\n",
       "      <td>283</td>\n",
       "      <td>129</td>\n",
       "      <td>165</td>\n",
       "      <td>98</td>\n",
       "      <td>15</td>\n",
       "      <td>163</td>\n",
       "      <td>178</td>\n",
       "      <td>360</td>\n",
       "      <td>46</td>\n",
       "      <td>...</td>\n",
       "      <td>203</td>\n",
       "      <td>13</td>\n",
       "      <td>305</td>\n",
       "      <td>277</td>\n",
       "      <td>169</td>\n",
       "      <td>29</td>\n",
       "      <td>22</td>\n",
       "      <td>358</td>\n",
       "      <td>365</td>\n",
       "      <td>340</td>\n",
       "    </tr>\n",
       "    <tr>\n",
       "      <th>1</th>\n",
       "      <td>27</td>\n",
       "      <td>256</td>\n",
       "      <td>298</td>\n",
       "      <td>333</td>\n",
       "      <td>195</td>\n",
       "      <td>187</td>\n",
       "      <td>268</td>\n",
       "      <td>60</td>\n",
       "      <td>129</td>\n",
       "      <td>209</td>\n",
       "      <td>...</td>\n",
       "      <td>317</td>\n",
       "      <td>119</td>\n",
       "      <td>275</td>\n",
       "      <td>259</td>\n",
       "      <td>33</td>\n",
       "      <td>183</td>\n",
       "      <td>228</td>\n",
       "      <td>13</td>\n",
       "      <td>76</td>\n",
       "      <td>190</td>\n",
       "    </tr>\n",
       "    <tr>\n",
       "      <th>2</th>\n",
       "      <td>133</td>\n",
       "      <td>54</td>\n",
       "      <td>120</td>\n",
       "      <td>231</td>\n",
       "      <td>294</td>\n",
       "      <td>108</td>\n",
       "      <td>196</td>\n",
       "      <td>349</td>\n",
       "      <td>175</td>\n",
       "      <td>149</td>\n",
       "      <td>...</td>\n",
       "      <td>175</td>\n",
       "      <td>37</td>\n",
       "      <td>186</td>\n",
       "      <td>297</td>\n",
       "      <td>117</td>\n",
       "      <td>258</td>\n",
       "      <td>106</td>\n",
       "      <td>239</td>\n",
       "      <td>8</td>\n",
       "      <td>5</td>\n",
       "    </tr>\n",
       "    <tr>\n",
       "      <th>3</th>\n",
       "      <td>300</td>\n",
       "      <td>181</td>\n",
       "      <td>7</td>\n",
       "      <td>19</td>\n",
       "      <td>230</td>\n",
       "      <td>67</td>\n",
       "      <td>89</td>\n",
       "      <td>8</td>\n",
       "      <td>355</td>\n",
       "      <td>303</td>\n",
       "      <td>...</td>\n",
       "      <td>239</td>\n",
       "      <td>295</td>\n",
       "      <td>342</td>\n",
       "      <td>251</td>\n",
       "      <td>314</td>\n",
       "      <td>200</td>\n",
       "      <td>343</td>\n",
       "      <td>179</td>\n",
       "      <td>163</td>\n",
       "      <td>214</td>\n",
       "    </tr>\n",
       "    <tr>\n",
       "      <th>4</th>\n",
       "      <td>75</td>\n",
       "      <td>270</td>\n",
       "      <td>278</td>\n",
       "      <td>143</td>\n",
       "      <td>358</td>\n",
       "      <td>305</td>\n",
       "      <td>309</td>\n",
       "      <td>237</td>\n",
       "      <td>35</td>\n",
       "      <td>329</td>\n",
       "      <td>...</td>\n",
       "      <td>294</td>\n",
       "      <td>225</td>\n",
       "      <td>67</td>\n",
       "      <td>349</td>\n",
       "      <td>187</td>\n",
       "      <td>141</td>\n",
       "      <td>279</td>\n",
       "      <td>74</td>\n",
       "      <td>71</td>\n",
       "      <td>82</td>\n",
       "    </tr>\n",
       "    <tr>\n",
       "      <th>...</th>\n",
       "      <td>...</td>\n",
       "      <td>...</td>\n",
       "      <td>...</td>\n",
       "      <td>...</td>\n",
       "      <td>...</td>\n",
       "      <td>...</td>\n",
       "      <td>...</td>\n",
       "      <td>...</td>\n",
       "      <td>...</td>\n",
       "      <td>...</td>\n",
       "      <td>...</td>\n",
       "      <td>...</td>\n",
       "      <td>...</td>\n",
       "      <td>...</td>\n",
       "      <td>...</td>\n",
       "      <td>...</td>\n",
       "      <td>...</td>\n",
       "      <td>...</td>\n",
       "      <td>...</td>\n",
       "      <td>...</td>\n",
       "      <td>...</td>\n",
       "    </tr>\n",
       "    <tr>\n",
       "      <th>9995</th>\n",
       "      <td>34</td>\n",
       "      <td>133</td>\n",
       "      <td>256</td>\n",
       "      <td>114</td>\n",
       "      <td>38</td>\n",
       "      <td>208</td>\n",
       "      <td>356</td>\n",
       "      <td>106</td>\n",
       "      <td>288</td>\n",
       "      <td>249</td>\n",
       "      <td>...</td>\n",
       "      <td>84</td>\n",
       "      <td>281</td>\n",
       "      <td>55</td>\n",
       "      <td>332</td>\n",
       "      <td>181</td>\n",
       "      <td>162</td>\n",
       "      <td>181</td>\n",
       "      <td>322</td>\n",
       "      <td>199</td>\n",
       "      <td>209</td>\n",
       "    </tr>\n",
       "    <tr>\n",
       "      <th>9996</th>\n",
       "      <td>244</td>\n",
       "      <td>106</td>\n",
       "      <td>274</td>\n",
       "      <td>110</td>\n",
       "      <td>175</td>\n",
       "      <td>3</td>\n",
       "      <td>118</td>\n",
       "      <td>188</td>\n",
       "      <td>305</td>\n",
       "      <td>343</td>\n",
       "      <td>...</td>\n",
       "      <td>359</td>\n",
       "      <td>359</td>\n",
       "      <td>325</td>\n",
       "      <td>278</td>\n",
       "      <td>236</td>\n",
       "      <td>356</td>\n",
       "      <td>230</td>\n",
       "      <td>118</td>\n",
       "      <td>41</td>\n",
       "      <td>350</td>\n",
       "    </tr>\n",
       "    <tr>\n",
       "      <th>9997</th>\n",
       "      <td>178</td>\n",
       "      <td>214</td>\n",
       "      <td>307</td>\n",
       "      <td>180</td>\n",
       "      <td>259</td>\n",
       "      <td>46</td>\n",
       "      <td>341</td>\n",
       "      <td>328</td>\n",
       "      <td>19</td>\n",
       "      <td>348</td>\n",
       "      <td>...</td>\n",
       "      <td>293</td>\n",
       "      <td>268</td>\n",
       "      <td>67</td>\n",
       "      <td>39</td>\n",
       "      <td>311</td>\n",
       "      <td>251</td>\n",
       "      <td>150</td>\n",
       "      <td>159</td>\n",
       "      <td>347</td>\n",
       "      <td>127</td>\n",
       "    </tr>\n",
       "    <tr>\n",
       "      <th>9998</th>\n",
       "      <td>152</td>\n",
       "      <td>35</td>\n",
       "      <td>27</td>\n",
       "      <td>124</td>\n",
       "      <td>268</td>\n",
       "      <td>198</td>\n",
       "      <td>324</td>\n",
       "      <td>121</td>\n",
       "      <td>222</td>\n",
       "      <td>36</td>\n",
       "      <td>...</td>\n",
       "      <td>73</td>\n",
       "      <td>127</td>\n",
       "      <td>140</td>\n",
       "      <td>159</td>\n",
       "      <td>293</td>\n",
       "      <td>222</td>\n",
       "      <td>250</td>\n",
       "      <td>301</td>\n",
       "      <td>272</td>\n",
       "      <td>60</td>\n",
       "    </tr>\n",
       "    <tr>\n",
       "      <th>9999</th>\n",
       "      <td>205</td>\n",
       "      <td>247</td>\n",
       "      <td>91</td>\n",
       "      <td>326</td>\n",
       "      <td>148</td>\n",
       "      <td>333</td>\n",
       "      <td>160</td>\n",
       "      <td>162</td>\n",
       "      <td>192</td>\n",
       "      <td>220</td>\n",
       "      <td>...</td>\n",
       "      <td>317</td>\n",
       "      <td>87</td>\n",
       "      <td>93</td>\n",
       "      <td>149</td>\n",
       "      <td>227</td>\n",
       "      <td>348</td>\n",
       "      <td>12</td>\n",
       "      <td>355</td>\n",
       "      <td>100</td>\n",
       "      <td>334</td>\n",
       "    </tr>\n",
       "  </tbody>\n",
       "</table>\n",
       "<p>10000 rows × 23 columns</p>\n",
       "</div>"
      ],
      "text/plain": [
       "       0    1    2    3    4    5    6    7    8    9   ...   13   14   15  \\\n",
       "0      70  283  129  165   98   15  163  178  360   46  ...  203   13  305   \n",
       "1      27  256  298  333  195  187  268   60  129  209  ...  317  119  275   \n",
       "2     133   54  120  231  294  108  196  349  175  149  ...  175   37  186   \n",
       "3     300  181    7   19  230   67   89    8  355  303  ...  239  295  342   \n",
       "4      75  270  278  143  358  305  309  237   35  329  ...  294  225   67   \n",
       "...   ...  ...  ...  ...  ...  ...  ...  ...  ...  ...  ...  ...  ...  ...   \n",
       "9995   34  133  256  114   38  208  356  106  288  249  ...   84  281   55   \n",
       "9996  244  106  274  110  175    3  118  188  305  343  ...  359  359  325   \n",
       "9997  178  214  307  180  259   46  341  328   19  348  ...  293  268   67   \n",
       "9998  152   35   27  124  268  198  324  121  222   36  ...   73  127  140   \n",
       "9999  205  247   91  326  148  333  160  162  192  220  ...  317   87   93   \n",
       "\n",
       "       16   17   18   19   20   21   22  \n",
       "0     277  169   29   22  358  365  340  \n",
       "1     259   33  183  228   13   76  190  \n",
       "2     297  117  258  106  239    8    5  \n",
       "3     251  314  200  343  179  163  214  \n",
       "4     349  187  141  279   74   71   82  \n",
       "...   ...  ...  ...  ...  ...  ...  ...  \n",
       "9995  332  181  162  181  322  199  209  \n",
       "9996  278  236  356  230  118   41  350  \n",
       "9997   39  311  251  150  159  347  127  \n",
       "9998  159  293  222  250  301  272   60  \n",
       "9999  149  227  348   12  355  100  334  \n",
       "\n",
       "[10000 rows x 23 columns]"
      ]
     },
     "execution_count": 316,
     "metadata": {},
     "output_type": "execute_result"
    }
   ],
   "source": [
    "bday_df"
   ]
  },
  {
   "cell_type": "code",
   "execution_count": 372,
   "id": "58dce59c-7639-454e-87f8-a69d07c6545a",
   "metadata": {
    "tags": []
   },
   "outputs": [
    {
     "data": {
      "text/plain": [
       "0        23\n",
       "1        22\n",
       "2        22\n",
       "3        22\n",
       "4        22\n",
       "         ..\n",
       "99995    22\n",
       "99996    23\n",
       "99997    23\n",
       "99998    22\n",
       "99999    23\n",
       "Length: 100000, dtype: int64"
      ]
     },
     "execution_count": 372,
     "metadata": {},
     "output_type": "execute_result"
    }
   ],
   "source": [
    "bday_df.nunique(axis=1)"
   ]
  },
  {
   "cell_type": "code",
   "execution_count": 373,
   "id": "fa88adab-8a9b-410e-a03f-6e94dc1c08a5",
   "metadata": {
    "tags": []
   },
   "outputs": [
    {
     "data": {
      "text/plain": [
       "0.50489"
      ]
     },
     "execution_count": 373,
     "metadata": {},
     "output_type": "execute_result"
    }
   ],
   "source": [
    "(bday_df.nunique(axis=1) != 23).mean() #23 people"
   ]
  },
  {
   "cell_type": "code",
   "execution_count": 339,
   "id": "e5b610f6-ac08-4615-b715-1b136d0e5a73",
   "metadata": {
    "tags": []
   },
   "outputs": [
    {
     "data": {
      "text/plain": [
       "0.41147"
      ]
     },
     "execution_count": 339,
     "metadata": {},
     "output_type": "execute_result"
    }
   ],
   "source": [
    "(bday_df.nunique(axis=1) != 20).mean() #20 people"
   ]
  },
  {
   "cell_type": "code",
   "execution_count": 376,
   "id": "7078506e-4493-477b-b7bd-0af138fcda3f",
   "metadata": {
    "tags": []
   },
   "outputs": [
    {
     "data": {
      "text/plain": [
       "0.89171"
      ]
     },
     "execution_count": 376,
     "metadata": {},
     "output_type": "execute_result"
    }
   ],
   "source": [
    "(bday_df.nunique(axis=1) != 40).mean() #40 people"
   ]
  },
  {
   "cell_type": "code",
   "execution_count": null,
   "id": "2bfe1ec8-7ce1-4cf8-a630-071310691e40",
   "metadata": {},
   "outputs": [],
   "source": []
  }
 ],
 "metadata": {
  "kernelspec": {
   "display_name": "Python 3 (ipykernel)",
   "language": "python",
   "name": "python3"
  },
  "language_info": {
   "codemirror_mode": {
    "name": "ipython",
    "version": 3
   },
   "file_extension": ".py",
   "mimetype": "text/x-python",
   "name": "python",
   "nbconvert_exporter": "python",
   "pygments_lexer": "ipython3",
   "version": "3.11.5"
  }
 },
 "nbformat": 4,
 "nbformat_minor": 5
}
